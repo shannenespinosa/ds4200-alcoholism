{
 "cells": [
  {
   "cell_type": "markdown",
   "id": "638caeb7-01fa-491f-907d-f94f93ebe8e8",
   "metadata": {},
   "source": [
    "# Exploring Postmortem Patterns of Alcohol Consumption Nationally\n",
    "- Final Project Plots for DS4200 Information Presentation and Visualization\n",
    "- Northeastern University Spring 2024 Professor Xiaoyi Yang\n",
    "- Authors: Ansley Cooper ‘25 & Shannen Espinosa ‘25\n",
    "- Contact: cooper.ans@northeastern.edu & espinosa.s@northeastern.edu\n",
    "\n",
    "---\n",
    "\n",
    "Welcome to the \"raw data\" from our website: https://shannenespinosa.github.io/ds4200.\n",
    "\n",
    "Here, we are analyzing the Health.gov dataset on [Alcohol-Related Disease Impact](https://healthdata.gov/dataset/Alcohol-Related-Disease-Impact-ARDI-Application-Al/8i56-u98i/about_data) across the United States. It contains 30 columns and 62,505 rows of data. The rows are data reports between 2015 and 2019 across ages and sexes for deaths attributable to alcohol. It contains estimates of alcohol-related disease impacts across the United States, noting causes of death and years of potential life lost. Our analyses were inspired by the [CDC's Application on Alcohol-Related Disease Impact](https://nccd.cdc.gov/DPH_ARDI/default/default.aspx) and the [CDC's Data on Excessive Drinking](https://www.cdc.gov/alcohol/data-stats.htm).\n",
    "\n",
    "---\n",
    "\n",
    "## Table of Contents\n",
    "- Figure 1: Geospatial Maps (Interactive)\n",
    "  - 1A: Number of Alcohol Related Deaths per 1000 People by Age\n",
    "  - 1B: Number of Alcohol Related Deaths per 1000 People by Cause of Death\n",
    "- Figure 2: Heatmaps (Static)\n",
    "  - 2A: Number of Alcohol Related Deaths per 1000 People by Age\n",
    "  - 2B: Number of Alcohol Related Deaths per 1000 People by Cause of Death\n",
    "- Figure 3: Bar Charts (Static and Interactive)\n",
    "  - 3A: Fatality Frequencies of Causes of Death (Static)\n",
    "  - 3B: Fatality Frequencies of Causes of Death by State (Interactive)\n",
    "- Figure 4: Assessment of Fatalities by sex\n",
    "  - 4A: D3 representation of moralities by sex donut plot (Interactive)\n",
    "  - 4B: Follium geospatial representation of "
   ]
  },
  {
   "cell_type": "code",
   "execution_count": 1,
   "id": "initial_id",
   "metadata": {
    "ExecuteTime": {
     "end_time": "2024-04-08T02:32:23.120160Z",
     "start_time": "2024-04-08T02:32:22.589734Z"
    }
   },
   "outputs": [],
   "source": [
    "import pandas as pd\n",
    "import geopandas as gpd\n",
    "import altair as alt"
   ]
  },
  {
   "cell_type": "code",
   "execution_count": 2,
   "id": "d440ba1176488bbd",
   "metadata": {
    "collapsed": false,
    "ExecuteTime": {
     "end_time": "2024-04-08T02:32:23.371225Z",
     "start_time": "2024-04-08T02:32:23.120Z"
    }
   },
   "outputs": [],
   "source": [
    "alc_df = pd.read_csv('filtered_alc_mort.csv', index_col=0)\n",
    "state = gpd.read_file(\"states/ne_110m_admin_1_states_provinces/ne_110m_admin_1_states_provinces.shp\")\n",
    "pop_df = pd.read_csv('nst-est2019-01.csv')"
   ]
  },
  {
   "cell_type": "markdown",
   "id": "32fa334e82fd9265",
   "metadata": {
    "collapsed": false
   },
   "source": [
    "# Figure 1: Geospatial Maps (Interactive)"
   ]
  },
  {
   "cell_type": "code",
   "execution_count": 3,
   "id": "12a4eacabfa7f68e",
   "metadata": {
    "collapsed": false,
    "ExecuteTime": {
     "end_time": "2024-04-08T02:32:23.466522Z",
     "start_time": "2024-04-08T02:32:23.371393Z"
    }
   },
   "outputs": [
    {
     "ename": "NameError",
     "evalue": "name 'data' is not defined",
     "output_type": "error",
     "traceback": [
      "\u001B[0;31m---------------------------------------------------------------------------\u001B[0m",
      "\u001B[0;31mNameError\u001B[0m                                 Traceback (most recent call last)",
      "Cell \u001B[0;32mIn[3], line 1\u001B[0m\n\u001B[0;32m----> 1\u001B[0m states \u001B[38;5;241m=\u001B[39m alt\u001B[38;5;241m.\u001B[39mtopo_feature(\u001B[43mdata\u001B[49m\u001B[38;5;241m.\u001B[39mus_10m\u001B[38;5;241m.\u001B[39murl, \u001B[38;5;124m'\u001B[39m\u001B[38;5;124mstates\u001B[39m\u001B[38;5;124m'\u001B[39m)\n\u001B[1;32m      3\u001B[0m base \u001B[38;5;241m=\u001B[39m alt\u001B[38;5;241m.\u001B[39mChart(states)\u001B[38;5;241m.\u001B[39mmark_geoshape(\n\u001B[1;32m      4\u001B[0m     fill\u001B[38;5;241m=\u001B[39m\u001B[38;5;124m'\u001B[39m\u001B[38;5;124m#EEE\u001B[39m\u001B[38;5;124m'\u001B[39m,\n\u001B[1;32m      5\u001B[0m     stroke\u001B[38;5;241m=\u001B[39m\u001B[38;5;124m'\u001B[39m\u001B[38;5;124mwhite\u001B[39m\u001B[38;5;124m'\u001B[39m\n\u001B[0;32m   (...)\u001B[0m\n\u001B[1;32m      8\u001B[0m     height\u001B[38;5;241m=\u001B[39m\u001B[38;5;241m300\u001B[39m\n\u001B[1;32m      9\u001B[0m )\u001B[38;5;241m.\u001B[39mproject(\u001B[38;5;124m'\u001B[39m\u001B[38;5;124malbersUsa\u001B[39m\u001B[38;5;124m'\u001B[39m)\n",
      "\u001B[0;31mNameError\u001B[0m: name 'data' is not defined"
     ]
    }
   ],
   "source": [
    "states = alt.topo_feature(data.us_10m.url, 'states')\n",
    "\n",
    "base = alt.Chart(states).mark_geoshape(\n",
    "    fill='#EEE',\n",
    "    stroke='white'\n",
    ").properties(\n",
    "    width=500,\n",
    "    height=300\n",
    ").project('albersUsa')"
   ]
  },
  {
   "cell_type": "markdown",
   "id": "97a56c6c-294d-454e-9b1e-b751c261a2c1",
   "metadata": {},
   "source": [
    "### Fig 1A: Number of Alcohol Related Deaths per 1000 People by Age"
   ]
  },
  {
   "cell_type": "code",
   "execution_count": null,
   "id": "cbad4dd09eedf799",
   "metadata": {
    "collapsed": false,
    "ExecuteTime": {
     "end_time": "2024-04-08T02:32:23.474303Z",
     "start_time": "2024-04-08T02:32:23.467964Z"
    }
   },
   "outputs": [],
   "source": [
    "alc_df[\"Fatalities\"] = alc_df[\"Data_Value\"].replace(\"-\" , 0).fillna(0).astype(int)\n",
    "alc_df_age = alc_df.groupby(by = ['LocationDesc', 'AgeGroup'], as_index= False).sum(\"Fatalities\")\n",
    "alc_df_age = alc_df_age.iloc[:, [0,1,4]]\n",
    "alc_df_age = alc_df_age[alc_df_age[\"AgeGroup\"] != \"Under 21\"]\n",
    "alc_df_age = alc_df_age[~alc_df_age[\"LocationDesc\"].isin([\"District of Columbia\", \"United States\"])]\n",
    "\n",
    "full = pd.merge(state, alc_df_age, left_on='woe_name', right_on='LocationDesc', how='outer')\n",
    "full.dropna(subset=['AgeGroup'], inplace=True)\n",
    "\n",
    "pop_df['state'] = pop_df['state'].str.replace('.', '')\n",
    "\n",
    "full = pd.merge(full, pop_df, left_on='woe_name', right_on='state', how='inner')\n",
    "full = full[full['AgeGroup'] != 'Under 21']\n",
    "full['per_capita'] = full['Fatalities'] / full['population '] * 1000"
   ]
  },
  {
   "cell_type": "code",
   "execution_count": null,
   "id": "4523516d647e3360",
   "metadata": {
    "collapsed": false,
    "ExecuteTime": {
     "start_time": "2024-04-08T02:32:23.469521Z"
    }
   },
   "outputs": [],
   "source": [
    "category_dropdown = alt.binding_radio(options=list(set(full['AgeGroup'])))\n",
    "selection = alt.selection_point(fields=['AgeGroup'], bind=category_dropdown, name='Select')\n",
    "\n",
    "alcohol = alt.Chart(full).mark_geoshape().encode(\n",
    "    color = 'per_capita:Q',\n",
    "    tooltip=[\n",
    "        alt.Tooltip('name:N', title='State'),\n",
    "        alt.Tooltip('per_capita:Q', title='Number of Alchohol Related Deaths per 1000 People')\n",
    "    ]\n",
    ").add_params(\n",
    "    selection\n",
    ").transform_filter(\n",
    "    selection\n",
    ").properties(\n",
    "    title=\"Figure 5.   Prevalence of Alcohol-Related Deaths by Age State-by-State\"\n",
    ")\n",
    "\n",
    "age_map = base + alcohol\n",
    "\n",
    "age_map.configure_title(anchor='start')"
   ]
  },
  {
   "cell_type": "markdown",
   "id": "3c9e75f1-3fbe-4c08-8957-2afb5a5822d3",
   "metadata": {},
   "source": [
    "### Fig 1B: Number of Alcohol Related Deaths per 1000 People by Cause of Death"
   ]
  },
  {
   "cell_type": "code",
   "execution_count": null,
   "id": "87b0ade770e2abb",
   "metadata": {
    "collapsed": false,
    "ExecuteTime": {
     "start_time": "2024-04-08T02:32:23.470556Z"
    }
   },
   "outputs": [],
   "source": [
    "alc_df_cause = alc_df.groupby(by=['LocationDesc', 'Cause_of_Death'], as_index=False).sum(\"Fatalities\")\n",
    "\n",
    "empty_data = [\n",
    "    \"Alcoholic myopathy\", \"Alcohol polyneuropathy\", \"Pancreatitis, chronic\",\n",
    "    \"Alcohol-induced chronic pancreatitis\", \"Infant death, preterm birth\", \n",
    "    \"Fetus and newborn affected by maternal use of alcohol\", \"Fetal alcohol syndrome\", \n",
    "    \"Gastroesophageal hemorrhage\", \"Air-space transport\", \n",
    "    \"Water transport\", \"Chronic hepatitis\", \"Infant death, low birth weight\", \n",
    "    \"Suicide by and exposure to alcohol\", \"Portal hypertension\", \n",
    "    \"Occupational and machine injuries\", \"Alcoholic gastritis\", \n",
    "    \"Infant death, small for gestational age\", \"Gallbladder disease\"\n",
    "]\n",
    "\n",
    "limited_data = [\n",
    "    \"Alcohol abuse\", \"Degeneration of nervous system due to alcohol\",\n",
    "    \"Pancreatitis, acute\", \"Unprovoked seizures, epilepsy, or seizure disorder\",\n",
    "    \"Alcohol cardiomyopathy\", \"Child maltreatment\", \"Pneumonia\",\n",
    "    \"Other road vehicle crashes\", \"Firearm injuries\", \"Esophageal varices\",\n",
    "    \"Alcoholic psychosis\", \"Hypothermia\", \"Alcohol-induced acute pancreatitis\",\n",
    "    \"Motor vehicle nontraffic crashes\", \"Aspiration\", \"Cancer, pancreatic\", \"Cancer, stomach\"\n",
    "]\n",
    "\n",
    "alc_df_cause = alc_df_cause[~alc_df_cause['Cause_of_Death'].isin(empty_data + limited_data)]\n",
    "\n",
    "full = pd.merge(state, alc_df_cause, left_on='woe_name', right_on='LocationDesc', how='outer')\n",
    "full.dropna(subset=['Cause_of_Death'], inplace=True)\n",
    "pop_df = pd.read_csv('nst-est2019-01.csv')\n",
    "pop_df['state'] = pop_df['state'].str.replace('.', '')\n",
    "full = pd.merge(full, pop_df, left_on='woe_name', right_on='state', how='inner')\n",
    "full['per_capita'] = full['Fatalities'] / full['population '] * 1000"
   ]
  },
  {
   "cell_type": "code",
   "execution_count": null,
   "id": "cc8efb15-40b0-4d17-8038-6bdf0054e097",
   "metadata": {
    "ExecuteTime": {
     "start_time": "2024-04-08T02:32:23.471932Z"
    }
   },
   "outputs": [],
   "source": [
    "category_dropdown = alt.binding_radio(options=list(set(full['Cause_of_Death'])))\n",
    "selection = alt.selection_point(fields=['Cause_of_Death'], bind=category_dropdown, name='Select')\n",
    "\n",
    "cod_map = alt.Chart(full).mark_geoshape().encode(\n",
    "    color='per_capita:Q',\n",
    "    tooltip=[\n",
    "        alt.Tooltip('name:N', title='State'),\n",
    "        alt.Tooltip('per_capita:Q', title='Number of Alcohol Related Deaths per 1000 People')\n",
    "    ]\n",
    ").add_selection(\n",
    "    selection\n",
    ").transform_filter(\n",
    "    selection\n",
    ").properties(\n",
    "    title=\"Figure 7.   Prevalence of Different Alcohol-Related Causes of Death State-by-State\"\n",
    ")\n",
    "\n",
    "death_map = base + cod_map\n",
    "\n",
    "death_map.configure_title(anchor='start')"
   ]
  },
  {
   "cell_type": "code",
   "execution_count": null,
   "id": "c2b2e6fa-0e79-4548-a7c4-d4f34d78e14e",
   "metadata": {
    "ExecuteTime": {
     "start_time": "2024-04-08T02:32:23.473256Z"
    }
   },
   "outputs": [],
   "source": [
    "age_map.save(\"plots_html/age_map.html\")\n",
    "death_map.save(\"plots_html/death_map.html\")"
   ]
  },
  {
   "cell_type": "markdown",
   "id": "f7b9d75c-a529-4d85-a2fc-59fe0c5fea86",
   "metadata": {},
   "source": [
    "# Figure 2: Heatmaps (Static)"
   ]
  },
  {
   "cell_type": "markdown",
   "id": "75ffc05f-a13b-46de-99dc-f60c26f629da",
   "metadata": {},
   "source": [
    "### Fig 2A: Number of Alcohol Related Deaths per 1000 People by Age"
   ]
  },
  {
   "cell_type": "code",
   "execution_count": null,
   "id": "bfcffc16-13b6-4cb7-8665-982b2c5efa49",
   "metadata": {
    "ExecuteTime": {
     "end_time": "2024-04-08T02:32:23.475285Z",
     "start_time": "2024-04-08T02:32:23.474541Z"
    }
   },
   "outputs": [],
   "source": [
    "alc_df_age = alc_df_age[alc_df_age[\"AgeGroup\"] != \"Overall\"]\n",
    "\n",
    "age_heatmap = alt.Chart(alc_df_age).mark_rect().encode(\n",
    "    x='LocationDesc:N',\n",
    "    y='AgeGroup:N',\n",
    "    color=alt.Color('Fatalities:Q', scale=alt.Scale(scheme='reds')),\n",
    "    tooltip=[\n",
    "        alt.Tooltip('LocationDesc:N', title='State'),\n",
    "        alt.Tooltip('AgeGroup:N', title='Age Group'),\n",
    "        alt.Tooltip('Fatalities:Q', title='Number of Alcohol Related Deaths')\n",
    "    ]\n",
    ").properties(\n",
    "    width=500,\n",
    "    height=300,\n",
    "    title=\"Figure 6.   Heatmap of Alcohol Related Deaths by Age Group and State\"\n",
    ").configure_title(anchor='start')\n",
    "\n",
    "age_heatmap"
   ]
  },
  {
   "cell_type": "markdown",
   "id": "0e247183-0437-407e-a21a-bb72aa117de9",
   "metadata": {},
   "source": [
    "### Fig 2B: Number of Alcohol Related Deaths per 1000 People by Cause of Death"
   ]
  },
  {
   "cell_type": "code",
   "execution_count": null,
   "id": "04313117-36ac-4567-b67c-c47bb3b1cba4",
   "metadata": {
    "ExecuteTime": {
     "start_time": "2024-04-08T02:32:23.475878Z"
    }
   },
   "outputs": [],
   "source": [
    "full = full[full['Cause_of_Death'] != 'Total for All Causes']\n",
    "\n",
    "death_heatmap = alt.Chart(full).mark_rect().encode(\n",
    "    x='name:N',\n",
    "    y='Cause_of_Death:N',\n",
    "    color=alt.Color('per_capita:Q', scale=alt.Scale(scheme='reds')),\n",
    "    tooltip=[\n",
    "        alt.Tooltip('name:N', title='State'),\n",
    "        alt.Tooltip('Cause_of_Death:N', title='Cause of Death'),\n",
    "        alt.Tooltip('per_capita:Q', title='Number of Alcohol Related Deaths per 1000 People')\n",
    "    ]\n",
    ").properties(\n",
    "    width=500,\n",
    "    height=300,\n",
    "    title=\"Figure 8.   Heatmap of Alcohol Related Deaths by Cause of Death\"\n",
    ").configure_title(anchor='start')\n",
    "\n",
    "death_heatmap"
   ]
  },
  {
   "cell_type": "code",
   "execution_count": null,
   "id": "d4a8076d-4320-4d87-97db-c2a229d529e5",
   "metadata": {
    "ExecuteTime": {
     "start_time": "2024-04-08T02:32:23.477252Z"
    }
   },
   "outputs": [],
   "source": [
    "age_heatmap.save(\"plots_html/age_heatmap.html\")\n",
    "death_heatmap.save(\"plots_html/death_heatmap.html\")"
   ]
  },
  {
   "cell_type": "markdown",
   "id": "ff17cb51-4da3-45db-8c22-d65fe2572d2b",
   "metadata": {},
   "source": [
    "# Figure 3: Bar Charts (Static and Interactive)"
   ]
  },
  {
   "cell_type": "markdown",
   "id": "2526a87d-b410-4576-a292-95420d9219fd",
   "metadata": {},
   "source": [
    "### Fig 3A: Fatality Frequencies of Causes of Death"
   ]
  },
  {
   "cell_type": "code",
   "execution_count": null,
   "id": "064f2960-156b-46e3-a3aa-8e7898e2a808",
   "metadata": {
    "ExecuteTime": {
     "start_time": "2024-04-08T02:32:23.478474Z"
    }
   },
   "outputs": [],
   "source": [
    "avg_cause_of_death_df = alc_df[['Cause_of_Death', 'Fatalities']]\n",
    "avg_cause_of_death_df = avg_cause_of_death_df.groupby(by = 'Cause_of_Death', as_index= False).sum('Fatalities')\n",
    "avg_cause_of_death_df = avg_cause_of_death_df[avg_cause_of_death_df['Cause_of_Death'] != 'Total for All Causes']\n",
    "\n",
    "static_bar = alt.Chart(avg_cause_of_death_df).mark_bar().encode(\n",
    "    x=alt.X('Cause_of_Death:N', sort='-y'),\n",
    "    y='Fatalities:Q'\n",
    ").properties(\n",
    "    title=\"Figure 3.   Total Nationwide Fatality Frequencies of Alcohol-Related Causes of Death\"\n",
    ").configure_title(anchor='start')\n",
    "\n",
    "static_bar"
   ]
  },
  {
   "cell_type": "markdown",
   "id": "ad7e647b-b208-4d66-b503-00b8fb02cae8",
   "metadata": {},
   "source": [
    "### Fig 3B: Fatality Frequencies of Causes of Death by State"
   ]
  },
  {
   "cell_type": "code",
   "execution_count": null,
   "id": "7e5a39d7-20bc-4637-bcaf-3fb8c0c5c181",
   "metadata": {
    "ExecuteTime": {
     "start_time": "2024-04-08T02:32:23.479635Z"
    }
   },
   "outputs": [],
   "source": [
    "avg_cause_of_death_df_st = alc_df[['Cause_of_Death', 'Fatalities', 'LocationDesc']]\n",
    "avg_cause_of_death_df_st = avg_cause_of_death_df_st.groupby(by = ['LocationDesc', 'Cause_of_Death'], as_index= False).sum('Fatalities')\n",
    "avg_cause_of_death_df_st = avg_cause_of_death_df_st[avg_cause_of_death_df_st['Cause_of_Death'] != 'Total for All Causes']\n",
    "\n",
    "category_dropdown = alt.binding_select(options= avg_cause_of_death_df_st['LocationDesc'].unique())\n",
    "fat_selection = alt.selection_point(fields=['LocationDesc'], bind=category_dropdown, name='Select')\n",
    "\n",
    "interactive_bar = alt.Chart(avg_cause_of_death_df_st).mark_bar().encode(\n",
    "    x=alt.X('Cause_of_Death:N', sort='-y'),\n",
    "    y='Fatalities:Q'\n",
    ").add_params(\n",
    "    fat_selection\n",
    ").transform_filter(\n",
    "    fat_selection\n",
    ").properties(\n",
    "    title=\"Figure 4.   State-based Fatality Frequencies of Alcohol-Related Causes of Death\"\n",
    ").configure_title(anchor='start')\n",
    "\n",
    "interactive_bar"
   ]
  },
  {
   "cell_type": "code",
   "execution_count": null,
   "id": "d05d3220-de1e-4dc6-94bc-6a72ea173299",
   "metadata": {
    "ExecuteTime": {
     "end_time": "2024-04-08T02:32:23.481476Z",
     "start_time": "2024-04-08T02:32:23.480513Z"
    }
   },
   "outputs": [],
   "source": [
    "static_bar.save(\"plots_html/static_bar.html\")\n",
    "interactive_bar.save(\"plots_html/interactive_bar.html\")"
   ]
  },
  {
   "cell_type": "markdown",
   "source": [
    "Figure 4b Geospatial Representation of Mortality by sex"
   ],
   "metadata": {
    "collapsed": false
   },
   "id": "ccf3b5c9295c1107"
  },
  {
   "cell_type": "code",
   "outputs": [],
   "source": [
    "alc_df['Data_Value'] = pd.to_numeric(alc_df['Data_Value'].replace('-', 0))\n",
    "alc_df1 = alc_df[[\"LocationDesc\", \"Data_Value\", \"Sex\"]]\n",
    "alc_df1.columns = ['LocationDesc', 'Fatalities', 'Sex']\n",
    "alc_df1 = alc_df1[alc_df1[\"Sex\"] != 'Overall']\n",
    "alc_df_sex = alc_df1.groupby(['LocationDesc', 'Sex'], as_index=False).sum()\n",
    "print(alc_df_sex.head())\n",
    "\n",
    "\n",
    "\n",
    "\n",
    "fem = alc_df_sex[alc_df_sex['Sex'] == 'Female'].copy()\n",
    "fem_geo = gpd.GeoDataFrame(pd.merge(state, fem, left_on='woe_name', right_on='LocationDesc', how='inner'))\n",
    "print(fem.head())\n",
    "\n",
    "male = alc_df_sex[alc_df_sex['Sex'] == 'Male'].copy()\n",
    "male_geo = gpd.GeoDataFrame(pd.merge(state, male, left_on='woe_name', right_on='LocationDesc', how='inner'))"
   ],
   "metadata": {
    "collapsed": false,
    "ExecuteTime": {
     "start_time": "2024-04-08T02:32:23.481230Z"
    }
   },
   "id": "c15d113b8f882352",
   "execution_count": null
  },
  {
   "cell_type": "code",
   "outputs": [],
   "source": [
    "import folium\n",
    "m = fem_geo.explore(\n",
    "    column = \"Fatalities\", \n",
    "    #popup = ['Fatalities', 'LocationDesc'], \n",
    "    #toolip = ['Fatalities', 'LocationDesc'],\n",
    "    scheme = 'quantiles',\n",
    "    legend = True, \n",
    "    name = 'Female Fatalities',\n",
    "    fill_color=\"Reds\"\n",
    ")\n",
    "\n",
    "male_geo.explore(\n",
    "    m = m, \n",
    "    column = \"Fatalities\", \n",
    "    #toolip = ['Fatalities', 'LocationDesc'],\n",
    "    #popup = ['Fatalities', 'LocationDesc'], \n",
    "    scheme = 'quantiles',\n",
    "    legend = True, \n",
    "    name = 'Male Fatalities',\n",
    "    fill_color=\"Blues\"\n",
    ")\n",
    "\n",
    "folium.TileLayer(\"CartoDB positron\", show = False).add_to(m)\n",
    "folium.LayerControl().add_to(m)\n",
    "\n",
    "m"
   ],
   "metadata": {
    "collapsed": false,
    "ExecuteTime": {
     "end_time": "2024-04-08T02:32:23.482413Z",
     "start_time": "2024-04-08T02:32:23.482048Z"
    }
   },
   "id": "f8522ac07f9f746c",
   "execution_count": null
  },
  {
   "cell_type": "code",
   "outputs": [],
   "source": [
    "import altair as alt\n",
    "from vega_datasets import data as vega_data\n",
    "alc_df['Data_Value'] = pd.to_numeric(alc_df['Data_Value'].replace('-', 0))\n",
    "df = alc_df\n",
    "\n",
    "print(df.head())\n",
    "\n",
    "# Filter the data for relevant columns and conditions\n",
    "filtered_data = df[(df['Category'] != 'Total') & df['Sex'] != 'Overall']\n",
    "\n",
    "print(filtered_data.head())\n",
    "\n",
    "# Calculate total mortality count by summing Chronic and Acute mortalities\n",
    "filtered_data['Total_Mortality'] = filtered_data.groupby(['LocationDesc', 'Sex'])['Data_Value'].transform('sum')\n",
    "\n",
    "\n",
    "print(filtered_data.head())\n",
    "\n",
    "# Plotting with Altair\n",
    "# GeoJSON data for US states\n",
    "us_states = alt.topo_feature(vega_data.us_10m.url, 'states')\n",
    "full = gpd.GeoDataFrame(pd.merge(state, filtered_data, left_on='woe_name', right_on='LocationDesc', how='inner'))\n",
    "#full = pd.merge( us_states, filtered_data,)\n",
    "full.head()"
   ],
   "metadata": {
    "collapsed": false,
    "ExecuteTime": {
     "start_time": "2024-04-08T02:32:23.482832Z"
    }
   },
   "id": "7aa9af66bf168af0",
   "execution_count": null
  },
  {
   "cell_type": "code",
   "outputs": [],
   "source": [
    "import altair as alt\n",
    "alt.data_transformers.enable(\"vegafusion\")\n",
    "alt.data_transformers.disable_max_rows()\n",
    "# Plotting with Altair\n",
    "# GeoJSON data for US states\n",
    "us_states = alt.topo_feature(vega_data.us_10m.url, 'states')\n",
    "\n",
    "# Create the choropleth map with tooltips\n",
    "choropleth = alt.Chart(full).mark_geoshape().encode(\n",
    "    color=alt.Color('Total_Mortality:Q', scale=alt.Scale(scheme='viridis')),\n",
    "    tooltip=[\n",
    "        alt.Tooltip('LocationDesc:N', title='State'),\n",
    "        alt.Tooltip('Sex:N', title='Sex'),\n",
    "        alt.Tooltip('Category:N', title='Category'),\n",
    "        alt.Tooltip('Data_Value:Q', title='Mortality Count')\n",
    "    ]\n",
    ").project(\n",
    "    type='albersUsa'\n",
    ").properties(\n",
    "    width=600,\n",
    "    height=400,\n",
    "    title='Mortalities by State (Male and Female)'\n",
    ")\n",
    "\n",
    "# Show the choropleth map\n",
    "choropleth"
   ],
   "metadata": {
    "collapsed": false,
    "ExecuteTime": {
     "start_time": "2024-04-08T02:32:23.483623Z"
    }
   },
   "id": "218aeae8619bd3ed",
   "execution_count": null
  },
  {
   "cell_type": "code",
   "outputs": [],
   "source": [
    "alt.data_transformers.enable(\"vegafusion\")\n",
    "# Plotting with Altair\n",
    "# GeoJSON data for US states\n",
    "us_states = alt.topo_feature(vega_data.us_10m.url, 'states')\n",
    "\n",
    "# Create the choropleth map with tooltips\n",
    "choropleth = alt.Chart(us_states).mark_geoshape().encode(\n",
    "    color=alt.Color('Total_Mortality:Q', scale=alt.Scale(scheme='viridis')),\n",
    "    tooltip=[\n",
    "        alt.Tooltip('LocationDesc:N', title='State'),\n",
    "        alt.Tooltip('Sex:N', title='Sex'),\n",
    "        alt.Tooltip('Category:N', title='Category'),\n",
    "        alt.Tooltip('Data_Value:Q', title='Mortality Count')\n",
    "    ]\n",
    ").transform_lookup(\n",
    "    lookup='id',\n",
    "    from_=alt.LookupData(filtered_data, 'LocationID', ['LocationDesc', 'Sex', 'Category', 'Data_Value'])\n",
    ").project(\n",
    "    type='albersUsa'\n",
    ").properties(\n",
    "    width=600,\n",
    "    height=400,\n",
    "    title='Mortalities by State (Male and Female)'\n",
    ")\n",
    "\n",
    "# Show the choropleth map\n",
    "choropleth"
   ],
   "metadata": {
    "collapsed": false,
    "ExecuteTime": {
     "start_time": "2024-04-08T02:32:23.484515Z"
    }
   },
   "id": "68d669ecac19941b",
   "execution_count": null
  },
  {
   "cell_type": "code",
   "outputs": [],
   "source": [
    "import geopandas as gpd\n",
    "import matplotlib.pyplot as plt\n",
    "\n",
    "# Sample data (replace this with your actual data loading)\n",
    "data_url = 'https://raw.githubusercontent.com/plotly/datasets/master/2014_us_cities.csv'\n",
    "cities = gpd.read_file(gpd.datasets.get_path('naturalearth_cities'))\n",
    "gdf = gpd.GeoDataFrame(cities, geometry=gpd.points_from_xy(cities.longitude, cities.latitude))\n",
    "\n",
    "# Filter the data for relevant columns and conditions\n",
    "filtered_data = gdf[(gdf['name'].isin(['Chronic', 'Acute'])) & (gdf['Sex'].isin(['Male', 'Female']))]\n",
    "\n",
    "# Calculate total mortality count by summing Chronic and Acute mortalities\n",
    "filtered_data['Total_Mortality'] = filtered_data.groupby(['name', 'Sex'])['pop_max'].transform('sum')\n",
    "\n",
    "# Plotting with GeoPandas\n",
    "world = gpd.read_file(gpd.datasets.get_path('naturalearth_lowres'))\n",
    "ax = world.plot(figsize=(15, 10), color='white', edgecolor='black')\n",
    "\n",
    "# Plot filtered data on top of the world map\n",
    "filtered_data.plot(ax=ax, color='red')\n",
    "\n",
    "# Customize the plot\n",
    "plt.title('Mortalities by State (Male and Female)')\n",
    "plt.xlabel('Longitude')\n",
    "plt.ylabel('Latitude')\n",
    "plt.show()"
   ],
   "metadata": {
    "collapsed": false,
    "ExecuteTime": {
     "start_time": "2024-04-08T02:32:23.485373Z"
    }
   },
   "id": "bab040f39bd571b2",
   "execution_count": null
  },
  {
   "cell_type": "code",
   "outputs": [],
   "source": [],
   "metadata": {
    "collapsed": false,
    "ExecuteTime": {
     "start_time": "2024-04-08T02:32:23.486426Z"
    }
   },
   "id": "6db90db240b22c88"
  }
 ],
 "metadata": {
  "kernelspec": {
   "display_name": "Python 3 (ipykernel)",
   "language": "python",
   "name": "python3"
  },
  "language_info": {
   "codemirror_mode": {
    "name": "ipython",
    "version": 3
   },
   "file_extension": ".py",
   "mimetype": "text/x-python",
   "name": "python",
   "nbconvert_exporter": "python",
   "pygments_lexer": "ipython3",
   "version": "3.12.2"
  }
 },
 "nbformat": 4,
 "nbformat_minor": 5
}
