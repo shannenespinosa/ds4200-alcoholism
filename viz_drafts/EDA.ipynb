{
 "cells": [
  {
   "cell_type": "code",
   "execution_count": 1,
   "id": "initial_id",
   "metadata": {
    "ExecuteTime": {
     "end_time": "2024-04-05T20:32:03.145660Z",
     "start_time": "2024-04-05T20:32:00.713033Z"
    }
   },
   "outputs": [],
   "source": [
    "import pandas as pd\n",
    "import pd\n",
    "from vega_datasets import data\n",
    "import altair as alt\n",
    "import matplotlib.pyplot as plt"
   ]
  },
  {
   "cell_type": "code",
   "execution_count": 2,
   "id": "911889c457a73132",
   "metadata": {
    "collapsed": false,
    "ExecuteTime": {
     "end_time": "2024-04-05T20:32:03.358755Z",
     "start_time": "2024-04-05T20:32:03.146694Z"
    }
   },
   "outputs": [
    {
     "ename": "FileNotFoundError",
     "evalue": "[Errno 2] No such file or directory: 'filtered_alc_mort.csv'",
     "output_type": "error",
     "traceback": [
      "\u001B[0;31m---------------------------------------------------------------------------\u001B[0m",
      "\u001B[0;31mFileNotFoundError\u001B[0m                         Traceback (most recent call last)",
      "Cell \u001B[0;32mIn[2], line 1\u001B[0m\n\u001B[0;32m----> 1\u001B[0m alc_df \u001B[38;5;241m=\u001B[39m \u001B[43mpd\u001B[49m\u001B[38;5;241;43m.\u001B[39;49m\u001B[43mread_csv\u001B[49m\u001B[43m(\u001B[49m\u001B[38;5;124;43m'\u001B[39;49m\u001B[38;5;124;43mfiltered_alc_mort.csv\u001B[39;49m\u001B[38;5;124;43m'\u001B[39;49m\u001B[43m)\u001B[49m\n\u001B[1;32m      2\u001B[0m alc_df\u001B[38;5;241m.\u001B[39mhead()\n\u001B[1;32m      3\u001B[0m alc_df[\u001B[38;5;124m\"\u001B[39m\u001B[38;5;124mFatalities\u001B[39m\u001B[38;5;124m\"\u001B[39m] \u001B[38;5;241m=\u001B[39m alc_df[\u001B[38;5;124m\"\u001B[39m\u001B[38;5;124mData_Value\u001B[39m\u001B[38;5;124m\"\u001B[39m]\u001B[38;5;241m.\u001B[39mreplace(\u001B[38;5;124m\"\u001B[39m\u001B[38;5;124m-\u001B[39m\u001B[38;5;124m\"\u001B[39m , \u001B[38;5;241m0\u001B[39m)\u001B[38;5;241m.\u001B[39mfillna(\u001B[38;5;241m0\u001B[39m)\u001B[38;5;241m.\u001B[39mastype(\u001B[38;5;28mint\u001B[39m)\n",
      "File \u001B[0;32m~/DS4200Final/.venv/lib/python3.11/site-packages/pandas/io/parsers/readers.py:1026\u001B[0m, in \u001B[0;36mread_csv\u001B[0;34m(filepath_or_buffer, sep, delimiter, header, names, index_col, usecols, dtype, engine, converters, true_values, false_values, skipinitialspace, skiprows, skipfooter, nrows, na_values, keep_default_na, na_filter, verbose, skip_blank_lines, parse_dates, infer_datetime_format, keep_date_col, date_parser, date_format, dayfirst, cache_dates, iterator, chunksize, compression, thousands, decimal, lineterminator, quotechar, quoting, doublequote, escapechar, comment, encoding, encoding_errors, dialect, on_bad_lines, delim_whitespace, low_memory, memory_map, float_precision, storage_options, dtype_backend)\u001B[0m\n\u001B[1;32m   1013\u001B[0m kwds_defaults \u001B[38;5;241m=\u001B[39m _refine_defaults_read(\n\u001B[1;32m   1014\u001B[0m     dialect,\n\u001B[1;32m   1015\u001B[0m     delimiter,\n\u001B[0;32m   (...)\u001B[0m\n\u001B[1;32m   1022\u001B[0m     dtype_backend\u001B[38;5;241m=\u001B[39mdtype_backend,\n\u001B[1;32m   1023\u001B[0m )\n\u001B[1;32m   1024\u001B[0m kwds\u001B[38;5;241m.\u001B[39mupdate(kwds_defaults)\n\u001B[0;32m-> 1026\u001B[0m \u001B[38;5;28;01mreturn\u001B[39;00m \u001B[43m_read\u001B[49m\u001B[43m(\u001B[49m\u001B[43mfilepath_or_buffer\u001B[49m\u001B[43m,\u001B[49m\u001B[43m \u001B[49m\u001B[43mkwds\u001B[49m\u001B[43m)\u001B[49m\n",
      "File \u001B[0;32m~/DS4200Final/.venv/lib/python3.11/site-packages/pandas/io/parsers/readers.py:620\u001B[0m, in \u001B[0;36m_read\u001B[0;34m(filepath_or_buffer, kwds)\u001B[0m\n\u001B[1;32m    617\u001B[0m _validate_names(kwds\u001B[38;5;241m.\u001B[39mget(\u001B[38;5;124m\"\u001B[39m\u001B[38;5;124mnames\u001B[39m\u001B[38;5;124m\"\u001B[39m, \u001B[38;5;28;01mNone\u001B[39;00m))\n\u001B[1;32m    619\u001B[0m \u001B[38;5;66;03m# Create the parser.\u001B[39;00m\n\u001B[0;32m--> 620\u001B[0m parser \u001B[38;5;241m=\u001B[39m \u001B[43mTextFileReader\u001B[49m\u001B[43m(\u001B[49m\u001B[43mfilepath_or_buffer\u001B[49m\u001B[43m,\u001B[49m\u001B[43m \u001B[49m\u001B[38;5;241;43m*\u001B[39;49m\u001B[38;5;241;43m*\u001B[39;49m\u001B[43mkwds\u001B[49m\u001B[43m)\u001B[49m\n\u001B[1;32m    622\u001B[0m \u001B[38;5;28;01mif\u001B[39;00m chunksize \u001B[38;5;129;01mor\u001B[39;00m iterator:\n\u001B[1;32m    623\u001B[0m     \u001B[38;5;28;01mreturn\u001B[39;00m parser\n",
      "File \u001B[0;32m~/DS4200Final/.venv/lib/python3.11/site-packages/pandas/io/parsers/readers.py:1620\u001B[0m, in \u001B[0;36mTextFileReader.__init__\u001B[0;34m(self, f, engine, **kwds)\u001B[0m\n\u001B[1;32m   1617\u001B[0m     \u001B[38;5;28mself\u001B[39m\u001B[38;5;241m.\u001B[39moptions[\u001B[38;5;124m\"\u001B[39m\u001B[38;5;124mhas_index_names\u001B[39m\u001B[38;5;124m\"\u001B[39m] \u001B[38;5;241m=\u001B[39m kwds[\u001B[38;5;124m\"\u001B[39m\u001B[38;5;124mhas_index_names\u001B[39m\u001B[38;5;124m\"\u001B[39m]\n\u001B[1;32m   1619\u001B[0m \u001B[38;5;28mself\u001B[39m\u001B[38;5;241m.\u001B[39mhandles: IOHandles \u001B[38;5;241m|\u001B[39m \u001B[38;5;28;01mNone\u001B[39;00m \u001B[38;5;241m=\u001B[39m \u001B[38;5;28;01mNone\u001B[39;00m\n\u001B[0;32m-> 1620\u001B[0m \u001B[38;5;28mself\u001B[39m\u001B[38;5;241m.\u001B[39m_engine \u001B[38;5;241m=\u001B[39m \u001B[38;5;28;43mself\u001B[39;49m\u001B[38;5;241;43m.\u001B[39;49m\u001B[43m_make_engine\u001B[49m\u001B[43m(\u001B[49m\u001B[43mf\u001B[49m\u001B[43m,\u001B[49m\u001B[43m \u001B[49m\u001B[38;5;28;43mself\u001B[39;49m\u001B[38;5;241;43m.\u001B[39;49m\u001B[43mengine\u001B[49m\u001B[43m)\u001B[49m\n",
      "File \u001B[0;32m~/DS4200Final/.venv/lib/python3.11/site-packages/pandas/io/parsers/readers.py:1880\u001B[0m, in \u001B[0;36mTextFileReader._make_engine\u001B[0;34m(self, f, engine)\u001B[0m\n\u001B[1;32m   1878\u001B[0m     \u001B[38;5;28;01mif\u001B[39;00m \u001B[38;5;124m\"\u001B[39m\u001B[38;5;124mb\u001B[39m\u001B[38;5;124m\"\u001B[39m \u001B[38;5;129;01mnot\u001B[39;00m \u001B[38;5;129;01min\u001B[39;00m mode:\n\u001B[1;32m   1879\u001B[0m         mode \u001B[38;5;241m+\u001B[39m\u001B[38;5;241m=\u001B[39m \u001B[38;5;124m\"\u001B[39m\u001B[38;5;124mb\u001B[39m\u001B[38;5;124m\"\u001B[39m\n\u001B[0;32m-> 1880\u001B[0m \u001B[38;5;28mself\u001B[39m\u001B[38;5;241m.\u001B[39mhandles \u001B[38;5;241m=\u001B[39m \u001B[43mget_handle\u001B[49m\u001B[43m(\u001B[49m\n\u001B[1;32m   1881\u001B[0m \u001B[43m    \u001B[49m\u001B[43mf\u001B[49m\u001B[43m,\u001B[49m\n\u001B[1;32m   1882\u001B[0m \u001B[43m    \u001B[49m\u001B[43mmode\u001B[49m\u001B[43m,\u001B[49m\n\u001B[1;32m   1883\u001B[0m \u001B[43m    \u001B[49m\u001B[43mencoding\u001B[49m\u001B[38;5;241;43m=\u001B[39;49m\u001B[38;5;28;43mself\u001B[39;49m\u001B[38;5;241;43m.\u001B[39;49m\u001B[43moptions\u001B[49m\u001B[38;5;241;43m.\u001B[39;49m\u001B[43mget\u001B[49m\u001B[43m(\u001B[49m\u001B[38;5;124;43m\"\u001B[39;49m\u001B[38;5;124;43mencoding\u001B[39;49m\u001B[38;5;124;43m\"\u001B[39;49m\u001B[43m,\u001B[49m\u001B[43m \u001B[49m\u001B[38;5;28;43;01mNone\u001B[39;49;00m\u001B[43m)\u001B[49m\u001B[43m,\u001B[49m\n\u001B[1;32m   1884\u001B[0m \u001B[43m    \u001B[49m\u001B[43mcompression\u001B[49m\u001B[38;5;241;43m=\u001B[39;49m\u001B[38;5;28;43mself\u001B[39;49m\u001B[38;5;241;43m.\u001B[39;49m\u001B[43moptions\u001B[49m\u001B[38;5;241;43m.\u001B[39;49m\u001B[43mget\u001B[49m\u001B[43m(\u001B[49m\u001B[38;5;124;43m\"\u001B[39;49m\u001B[38;5;124;43mcompression\u001B[39;49m\u001B[38;5;124;43m\"\u001B[39;49m\u001B[43m,\u001B[49m\u001B[43m \u001B[49m\u001B[38;5;28;43;01mNone\u001B[39;49;00m\u001B[43m)\u001B[49m\u001B[43m,\u001B[49m\n\u001B[1;32m   1885\u001B[0m \u001B[43m    \u001B[49m\u001B[43mmemory_map\u001B[49m\u001B[38;5;241;43m=\u001B[39;49m\u001B[38;5;28;43mself\u001B[39;49m\u001B[38;5;241;43m.\u001B[39;49m\u001B[43moptions\u001B[49m\u001B[38;5;241;43m.\u001B[39;49m\u001B[43mget\u001B[49m\u001B[43m(\u001B[49m\u001B[38;5;124;43m\"\u001B[39;49m\u001B[38;5;124;43mmemory_map\u001B[39;49m\u001B[38;5;124;43m\"\u001B[39;49m\u001B[43m,\u001B[49m\u001B[43m \u001B[49m\u001B[38;5;28;43;01mFalse\u001B[39;49;00m\u001B[43m)\u001B[49m\u001B[43m,\u001B[49m\n\u001B[1;32m   1886\u001B[0m \u001B[43m    \u001B[49m\u001B[43mis_text\u001B[49m\u001B[38;5;241;43m=\u001B[39;49m\u001B[43mis_text\u001B[49m\u001B[43m,\u001B[49m\n\u001B[1;32m   1887\u001B[0m \u001B[43m    \u001B[49m\u001B[43merrors\u001B[49m\u001B[38;5;241;43m=\u001B[39;49m\u001B[38;5;28;43mself\u001B[39;49m\u001B[38;5;241;43m.\u001B[39;49m\u001B[43moptions\u001B[49m\u001B[38;5;241;43m.\u001B[39;49m\u001B[43mget\u001B[49m\u001B[43m(\u001B[49m\u001B[38;5;124;43m\"\u001B[39;49m\u001B[38;5;124;43mencoding_errors\u001B[39;49m\u001B[38;5;124;43m\"\u001B[39;49m\u001B[43m,\u001B[49m\u001B[43m \u001B[49m\u001B[38;5;124;43m\"\u001B[39;49m\u001B[38;5;124;43mstrict\u001B[39;49m\u001B[38;5;124;43m\"\u001B[39;49m\u001B[43m)\u001B[49m\u001B[43m,\u001B[49m\n\u001B[1;32m   1888\u001B[0m \u001B[43m    \u001B[49m\u001B[43mstorage_options\u001B[49m\u001B[38;5;241;43m=\u001B[39;49m\u001B[38;5;28;43mself\u001B[39;49m\u001B[38;5;241;43m.\u001B[39;49m\u001B[43moptions\u001B[49m\u001B[38;5;241;43m.\u001B[39;49m\u001B[43mget\u001B[49m\u001B[43m(\u001B[49m\u001B[38;5;124;43m\"\u001B[39;49m\u001B[38;5;124;43mstorage_options\u001B[39;49m\u001B[38;5;124;43m\"\u001B[39;49m\u001B[43m,\u001B[49m\u001B[43m \u001B[49m\u001B[38;5;28;43;01mNone\u001B[39;49;00m\u001B[43m)\u001B[49m\u001B[43m,\u001B[49m\n\u001B[1;32m   1889\u001B[0m \u001B[43m\u001B[49m\u001B[43m)\u001B[49m\n\u001B[1;32m   1890\u001B[0m \u001B[38;5;28;01massert\u001B[39;00m \u001B[38;5;28mself\u001B[39m\u001B[38;5;241m.\u001B[39mhandles \u001B[38;5;129;01mis\u001B[39;00m \u001B[38;5;129;01mnot\u001B[39;00m \u001B[38;5;28;01mNone\u001B[39;00m\n\u001B[1;32m   1891\u001B[0m f \u001B[38;5;241m=\u001B[39m \u001B[38;5;28mself\u001B[39m\u001B[38;5;241m.\u001B[39mhandles\u001B[38;5;241m.\u001B[39mhandle\n",
      "File \u001B[0;32m~/DS4200Final/.venv/lib/python3.11/site-packages/pandas/io/common.py:873\u001B[0m, in \u001B[0;36mget_handle\u001B[0;34m(path_or_buf, mode, encoding, compression, memory_map, is_text, errors, storage_options)\u001B[0m\n\u001B[1;32m    868\u001B[0m \u001B[38;5;28;01melif\u001B[39;00m \u001B[38;5;28misinstance\u001B[39m(handle, \u001B[38;5;28mstr\u001B[39m):\n\u001B[1;32m    869\u001B[0m     \u001B[38;5;66;03m# Check whether the filename is to be opened in binary mode.\u001B[39;00m\n\u001B[1;32m    870\u001B[0m     \u001B[38;5;66;03m# Binary mode does not support 'encoding' and 'newline'.\u001B[39;00m\n\u001B[1;32m    871\u001B[0m     \u001B[38;5;28;01mif\u001B[39;00m ioargs\u001B[38;5;241m.\u001B[39mencoding \u001B[38;5;129;01mand\u001B[39;00m \u001B[38;5;124m\"\u001B[39m\u001B[38;5;124mb\u001B[39m\u001B[38;5;124m\"\u001B[39m \u001B[38;5;129;01mnot\u001B[39;00m \u001B[38;5;129;01min\u001B[39;00m ioargs\u001B[38;5;241m.\u001B[39mmode:\n\u001B[1;32m    872\u001B[0m         \u001B[38;5;66;03m# Encoding\u001B[39;00m\n\u001B[0;32m--> 873\u001B[0m         handle \u001B[38;5;241m=\u001B[39m \u001B[38;5;28;43mopen\u001B[39;49m\u001B[43m(\u001B[49m\n\u001B[1;32m    874\u001B[0m \u001B[43m            \u001B[49m\u001B[43mhandle\u001B[49m\u001B[43m,\u001B[49m\n\u001B[1;32m    875\u001B[0m \u001B[43m            \u001B[49m\u001B[43mioargs\u001B[49m\u001B[38;5;241;43m.\u001B[39;49m\u001B[43mmode\u001B[49m\u001B[43m,\u001B[49m\n\u001B[1;32m    876\u001B[0m \u001B[43m            \u001B[49m\u001B[43mencoding\u001B[49m\u001B[38;5;241;43m=\u001B[39;49m\u001B[43mioargs\u001B[49m\u001B[38;5;241;43m.\u001B[39;49m\u001B[43mencoding\u001B[49m\u001B[43m,\u001B[49m\n\u001B[1;32m    877\u001B[0m \u001B[43m            \u001B[49m\u001B[43merrors\u001B[49m\u001B[38;5;241;43m=\u001B[39;49m\u001B[43merrors\u001B[49m\u001B[43m,\u001B[49m\n\u001B[1;32m    878\u001B[0m \u001B[43m            \u001B[49m\u001B[43mnewline\u001B[49m\u001B[38;5;241;43m=\u001B[39;49m\u001B[38;5;124;43m\"\u001B[39;49m\u001B[38;5;124;43m\"\u001B[39;49m\u001B[43m,\u001B[49m\n\u001B[1;32m    879\u001B[0m \u001B[43m        \u001B[49m\u001B[43m)\u001B[49m\n\u001B[1;32m    880\u001B[0m     \u001B[38;5;28;01melse\u001B[39;00m:\n\u001B[1;32m    881\u001B[0m         \u001B[38;5;66;03m# Binary mode\u001B[39;00m\n\u001B[1;32m    882\u001B[0m         handle \u001B[38;5;241m=\u001B[39m \u001B[38;5;28mopen\u001B[39m(handle, ioargs\u001B[38;5;241m.\u001B[39mmode)\n",
      "\u001B[0;31mFileNotFoundError\u001B[0m: [Errno 2] No such file or directory: 'filtered_alc_mort.csv'"
     ]
    }
   ],
   "source": [
    "alc_df = pd.read_csv('filtered_alc_mort.csv')\n",
    "alc_df.head()\n",
    "alc_df[\"Fatalities\"] = alc_df[\"Data_Value\"].replace(\"-\" , 0).fillna(0).astype(int)"
   ]
  },
  {
   "cell_type": "code",
   "execution_count": null,
   "id": "c93ea2cfbdf2e811",
   "metadata": {
    "collapsed": false,
    "ExecuteTime": {
     "start_time": "2024-04-05T20:32:03.359034Z"
    }
   },
   "outputs": [],
   "source": [
    "gb = alc_df.groupby(['LocationDesc', \"Cause_of_Death\", \"Sex\"]).size()\n",
    "gb"
   ]
  },
  {
   "cell_type": "code",
   "execution_count": null,
   "id": "b55d43fbe8379022",
   "metadata": {
    "collapsed": false,
    "ExecuteTime": {
     "end_time": "2024-04-05T20:32:03.363694Z",
     "start_time": "2024-04-05T20:32:03.360458Z"
    }
   },
   "outputs": [],
   "source": [
    "gb = alc_df.groupby(['LocationDesc', 'ConditionType']).count().reset_index()\n",
    "\n",
    "#counts = gb.size().to_frame(name='counts')\n",
    "\n",
    "gb = gb.iloc[:,0:3]\n",
    "gb"
   ]
  },
  {
   "cell_type": "code",
   "execution_count": null,
   "id": "1568bf9c57551f09",
   "metadata": {
    "collapsed": false,
    "ExecuteTime": {
     "start_time": "2024-04-05T20:32:03.361528Z"
    }
   },
   "outputs": [],
   "source": [
    "counts_p = gb.pivot(index='LocationDesc', columns='ConditionType')\n",
    "counts_p.head()"
   ]
  },
  {
   "cell_type": "code",
   "execution_count": null,
   "id": "b4a535899929bd2a",
   "metadata": {
    "collapsed": false,
    "ExecuteTime": {
     "start_time": "2024-04-05T20:32:03.362619Z"
    }
   },
   "outputs": [],
   "source": [
    "import geopandas\n",
    "state = geopandas.read_file(\"ne_110m_admin_1_states_provinces/ne_110m_admin_1_states_provinces.shp\")\n",
    "state.head()"
   ]
  },
  {
   "cell_type": "code",
   "execution_count": null,
   "id": "2deb1a174df76532",
   "metadata": {
    "collapsed": false,
    "ExecuteTime": {
     "end_time": "2024-04-05T20:32:03.364038Z",
     "start_time": "2024-04-05T20:32:03.363783Z"
    }
   },
   "outputs": [],
   "source": [
    "full = pd.merge(state, alc_df, left_on='woe_name', right_on='LocationDesc', how='outer')\n",
    "full.head()\n",
    "full.shape"
   ]
  },
  {
   "cell_type": "code",
   "execution_count": null,
   "id": "ba51a34cc5973309",
   "metadata": {
    "collapsed": false,
    "ExecuteTime": {
     "start_time": "2024-04-05T20:32:03.364850Z"
    }
   },
   "outputs": [],
   "source": [
    "states = alt.topo_feature(data.us_10m.url, feature='states')\n",
    "states"
   ]
  },
  {
   "cell_type": "code",
   "execution_count": null,
   "id": "7e486ec5-1d4b-445a-96b5-050e997a74e8",
   "metadata": {
    "ExecuteTime": {
     "start_time": "2024-04-05T20:32:03.365835Z"
    }
   },
   "outputs": [],
   "source": [
    "alc_df.head()"
   ]
  },
  {
   "cell_type": "code",
   "execution_count": null,
   "id": "d3bea6d1f29aa537",
   "metadata": {
    "collapsed": false,
    "ExecuteTime": {
     "start_time": "2024-04-05T20:32:03.366884Z"
    }
   },
   "outputs": [],
   "source": [
    "alc_df_age = alc_df.groupby(by = ['LocationDesc', 'AgeGroup'], as_index= False).sum(\"Fatalities\")\n",
    "\n",
    "alc_df_age = alc_df_age.iloc[:, [0,1,4]]\n",
    "alc_df_age = alc_df_age[alc_df_age[\"AgeGroup\"] != \"Under 21\"]\n",
    "alc_df_age"
   ]
  },
  {
   "cell_type": "code",
   "execution_count": null,
   "id": "4e523870b79719b5",
   "metadata": {
    "collapsed": false,
    "ExecuteTime": {
     "start_time": "2024-04-05T20:32:03.368005Z"
    }
   },
   "outputs": [],
   "source": [
    "full = pd.merge(state, alc_df_age, left_on='woe_name', right_on='LocationDesc', how='outer')\n",
    "full.head()\n",
    "full.shape"
   ]
  },
  {
   "cell_type": "code",
   "execution_count": null,
   "id": "a7ee719ddab36144",
   "metadata": {
    "collapsed": false,
    "ExecuteTime": {
     "start_time": "2024-04-05T20:32:03.369196Z"
    }
   },
   "outputs": [],
   "source": [
    "import altair as alt\n",
    "from vega_datasets import data\n",
    "import geopandas as gpd\n",
    "\n",
    "ages = full['AgeGroup'].unique()\n",
    "\n",
    "input_dropdown = alt.binding_select(options=['Europe','Japan','USA'], name='Region ')\n",
    "selection = alt.selection_point(fields=['Origin'], bind=input_dropdown)\n",
    "color = alt.condition(\n",
    "    selection,\n",
    "    alt.Color('Origin:N').legend(None),\n",
    "    alt.value('lightgray')\n",
    ")\n",
    "\n",
    "# define a pointer selection\n",
    "click_state = alt.selection_point(fields=[\"LocationDesc\"])\n",
    "\n",
    "# create a choropleth map using a lookup transform\n",
    "# define a condition on the opacity encoding depending on the selection\n",
    "choropleth = (\n",
    "    alt.Chart(full)\n",
    "    .mark_geoshape()\n",
    "    .transform_lookup(\n",
    "        lookup=\"id\", from_=alt.LookupData(us_population, \"id\", [\"population\", \"state\"])\n",
    "    )\n",
    "    .encode(\n",
    "        color=\"population:Q\",\n",
    "        opacity=alt.condition(click_state, alt.value(1), alt.value(0.2)),\n",
    "        tooltip=[\"state:N\", \"population:Q\"],\n",
    "    )\n",
    "    .project(type=\"albersUsa\")\n",
    ")\n",
    "\n",
    "# create a bar chart with a similar condition on the opacity encoding.\n",
    "bars = (\n",
    "    alt.Chart(\n",
    "        us_population.nlargest(15, \"population\"), title=\"Top 15 states by population\"\n",
    "    )\n",
    "    .mark_bar()\n",
    "    .encode(\n",
    "        x=\"population\",\n",
    "        opacity=alt.condition(click_state, alt.value(1), alt.value(0.2)),\n",
    "        color=\"population\",\n",
    "        y=alt.Y(\"state\").sort(\"-x\"),\n",
    "    )\n",
    ")\n",
    "\n",
    "(choropleth & bars).add_params(click_state)"
   ]
  },
  {
   "cell_type": "code",
   "execution_count": null,
   "id": "c65b9112e5ee6779",
   "metadata": {
    "collapsed": false,
    "ExecuteTime": {
     "start_time": "2024-04-05T20:32:03.370060Z"
    }
   },
   "outputs": [],
   "source": [
    "full['geometry'] = full.geometry"
   ]
  },
  {
   "cell_type": "code",
   "execution_count": null,
   "id": "33cf32debf36ee44",
   "metadata": {
    "collapsed": false,
    "ExecuteTime": {
     "start_time": "2024-04-05T20:32:03.370711Z"
    }
   },
   "outputs": [],
   "source": [
    "ages = full['AgeGroup'].unique()\n",
    "ages = list(set(ages))\n",
    "ages"
   ]
  },
  {
   "cell_type": "code",
   "execution_count": null,
   "id": "b21ce5f36037525a",
   "metadata": {
    "collapsed": false,
    "ExecuteTime": {
     "start_time": "2024-04-05T20:32:03.371386Z"
    }
   },
   "outputs": [],
   "source": [
    "# List of all unique Measures\n",
    "measures = ages\n",
    "\n",
    "# Create drop-down, using the \"measures\" list\n",
    "input_dropdown = alt.binding_select(options=measures, name='Age Groups')\n",
    "\n",
    "# Creating a binding \"selection\" object in Vega\n",
    "# which is mapped filter the \"Measure\" field in the data\n",
    "selection = alt.selection_point(fields=['Age Groups'], bind=input_dropdown)\n",
    "\n",
    "state_fig = (\n",
    "    alt.Chart(full)   # Note I removed the .filter()\n",
    "    .mark_geoshape(strokeWidth=1, stroke=\"darkgreen\")\n",
    "    .encode(\n",
    "        shape=\"geometry:G\",\n",
    "        color=\"Value\",\n",
    "        tooltip=['LocationDesc', 'AgeGroup', \"Fatalities\"],\n",
    "    )\n",
    "    .transform_lookup(\n",
    "        lookup=\"geometry\", \n",
    "        from_=alt.LookupData(data=counties, key=\"id\"), \n",
    "        as_=\"geometry\"\n",
    "    )\n",
    "    .transform_filter(   # transform_filter() allows dynamic selection\n",
    "        selection  \n",
    "    )\n",
    "    .add_params(   # add_params() make \"selection\" variable available to chart\n",
    "        selection\n",
    "    )\n",
    "    .project(type=\"albersUsa\")\n",
    "    .properties(width=400)\n",
    ")\n",
    "state_fig"
   ]
  },
  {
   "cell_type": "code",
   "execution_count": null,
   "id": "d91a75cb1fa57b83",
   "metadata": {
    "collapsed": false,
    "ExecuteTime": {
     "start_time": "2024-04-05T20:32:03.372032Z"
    }
   },
   "outputs": [],
   "source": [
    "counties = alt.topo_feature(data.us_10m.url, 'state')"
   ]
  },
  {
   "cell_type": "code",
   "execution_count": null,
   "id": "5dae21348023e12e",
   "metadata": {
    "collapsed": false,
    "ExecuteTime": {
     "start_time": "2024-04-05T20:32:03.372663Z"
    }
   },
   "outputs": [],
   "source": [
    "import polars as pl\n",
    "alt.data_transformers.disable_max_rows()\n",
    "\n",
    "state = alt.topo_feature(data.us_10m.url, 'state')\n",
    "\n",
    "# List of all unique Measures\n",
    "measures = ages\n",
    "\n",
    "# Create drop-down, using the \"measures\" list\n",
    "input_dropdown = alt.binding_select(options=measures, name='Measure')\n",
    "\n",
    "# Creating a binding \"selection\" object in Vega\n",
    "# which is mapped filter the \"Measure\" field in the data\n",
    "selection = alt.selection_point(fields=['Measure'], bind=input_dropdown)\n",
    "\n",
    "state_fig = (\n",
    "    alt.Chart(full.filter(\"AgeGroup\")==\"Overall\")   # Note I removed the .filter()\n",
    "    .mark_geoshape(strokeWidth=1, stroke=\"darkgreen\")\n",
    "    .encode(\n",
    "        shape=\"geometry:G\",\n",
    "        color=\"Fatalities\",\n",
    "        tooltip=['LocationDesc', 'AgeGroup', \"Fatalities\"]\n",
    "    ).add_params(   # add_params() make \"selection\" variable available to chart\n",
    "        selection\n",
    "    )\n",
    "    .project(type=\"albersUsa\")\n",
    "    .properties(width=400)\n",
    ")\n",
    "state_fig"
   ]
  },
  {
   "cell_type": "code",
   "execution_count": null,
   "id": "e970eff11f130f2a",
   "metadata": {
    "collapsed": false,
    "ExecuteTime": {
     "start_time": "2024-04-05T20:32:03.373564Z"
    }
   },
   "outputs": [],
   "source": [
    "    ).transform_filter(   # transform_filter() allows dynamic selection\n",
    "        selection  \n",
    "    )\n",
    "\n",
    "\n",
    "state_fig = (\n",
    "    alt.Chart(full.filter(pl.col(\"Measure\")==\"Total Population\"))\n",
    "    .mark_geoshape(strokeWidth=1, stroke=\"darkgreen\")\n",
    "    .encode(\n",
    "        shape=\"geo:G\",\n",
    "        color=\"Value\",\n",
    "        tooltip=[\"County Name\", \"GEOID\", \"Measure\", \"Value\"],\n",
    "    )\n",
    "    .transform_lookup(\n",
    "        lookup=\"GEOID\", \n",
    "        from_=alt.LookupData(data=counties, key=\"id\"), \n",
    "        as_=\"geo\"\n",
    "    )\n",
    "    .project(type=\"albersUsa\")\n",
    "    .properties(width=400)\n",
    ")\n",
    "state_fig"
   ]
  },
  {
   "cell_type": "code",
   "execution_count": null,
   "id": "feac472382df283f",
   "metadata": {
    "collapsed": false,
    "ExecuteTime": {
     "start_time": "2024-04-05T20:32:03.374366Z"
    }
   },
   "outputs": [],
   "source": []
  },
  {
   "cell_type": "code",
   "execution_count": null,
   "id": "e99a52e10a6e97a7",
   "metadata": {
    "collapsed": false,
    "ExecuteTime": {
     "start_time": "2024-04-05T20:32:03.374979Z"
    }
   },
   "outputs": [],
   "source": [
    "import altair as alt\n",
    "from vega_datasets import data\n",
    "\n",
    "# Load the US state data\n",
    "states = alt.topo_feature(data.us_10m.url, 'states')\n",
    "\n",
    "# Create a dropdown selection\n",
    "category_dropdown = alt.binding_select(options=['Population', 'Unemployment Rate'])\n",
    "selection = alt.selection_single(fields=['category'], bind=category_dropdown, name='Select')\n",
    "\n",
    "# Define the base map\n",
    "base = alt.Chart(states).mark_geoshape(\n",
    "    fill='#EEE',\n",
    "    stroke='white'\n",
    ").properties(\n",
    "    width=500,\n",
    "    height=300\n",
    ").project('albersUsa')\n",
    "\n",
    "# Define the choropleth map\n",
    "choropleth = alt.Chart(states).mark_geoshape().encode(\n",
    "        color=alt.condition(\n",
    "            selection,\n",
    "            alt.Color('properties.category:N', scale=alt.Scale(scheme='blues')),\n",
    "            alt.value('lightgray')\n",
    "        ),\n",
    "        tooltip=[\n",
    "            alt.Tooltip('properties.name:N', title='State'),\n",
    "            alt.Tooltip('properties.category:Q', title='Category Value')\n",
    "        ]\n",
    "    ).transform_lookup(\n",
    "        lookup='id',\n",
    "        from_=alt.LookupData(data=states, key='id', fields=['category'])\n",
    "    ).add_params(\n",
    "        selection\n",
    "    ).properties(\n",
    "        title=\"US Chloropleth Map\"\n",
    "    )\n",
    "\n",
    "# Combine the base map and the choropleth map\n",
    "us_choropleth = base + choropleth\n",
    "\n",
    "# Show the map\n",
    "us_choropleth"
   ]
  },
  {
   "cell_type": "code",
   "execution_count": null,
   "id": "5adb628b7ac2651d",
   "metadata": {
    "collapsed": false,
    "ExecuteTime": {
     "start_time": "2024-04-05T20:32:03.375666Z"
    }
   },
   "outputs": [],
   "source": [
    "import pandas as pd\n",
    "pop_df = pd.read_csv('nst-est2019-01.csv')\n",
    "pop_df['state'] = list(map(lambda x: x.replace('.', ''), pop_df['state']))"
   ]
  },
  {
   "cell_type": "code",
   "execution_count": 6,
   "id": "9f2929b1eea26565",
   "metadata": {
    "collapsed": false,
    "ExecuteTime": {
     "end_time": "2024-04-05T20:36:34.410213Z",
     "start_time": "2024-04-05T20:36:34.313922Z"
    }
   },
   "outputs": [
    {
     "data": {
      "text/plain": "       Unnamed: 0   LocationDesc ConditionType                    Category  \\\n0               1  West Virginia       Chronic                       Total   \n1               2  West Virginia         Total                       Total   \n2               3  United States         Acute  Alcohol-Related Poisonings   \n3               4  United States         Acute  Alcohol-Related Poisonings   \n4               5  West Virginia         Acute                       Total   \n...           ...            ...           ...                         ...   \n62499       62500        Wyoming       Chronic                       Total   \n62500       62501        Wyoming         Total                       Total   \n62501       62502        Wyoming         Acute                       Total   \n62502       62503        Wyoming       Chronic                       Total   \n62503       62504        Wyoming         Total                       Total   \n\n             Cause_of_Death Data_Value  Data_Value_Alt  \\\n0      Total for All Causes          0             0.0   \n1      Total for All Causes          7             7.0   \n2         Alcohol poisoning         13            13.0   \n3         Alcohol poisoning       1761          1761.0   \n4      Total for All Causes        367           367.0   \n...                     ...        ...             ...   \n62499  Total for All Causes         83            83.0   \n62500  Total for All Causes        102           102.0   \n62501  Total for All Causes         19            19.0   \n62502  Total for All Causes         77            77.0   \n62503  Total for All Causes         96            96.0   \n\n      Data_Value_Footnote_Symbol Data_Value_Footnote           Effect  \\\n0                            NaN                 NaN  Harmful Effects   \n1                            NaN                 NaN  Harmful Effects   \n2                            NaN                 NaN  Harmful Effects   \n3                            NaN                 NaN  Harmful Effects   \n4                            NaN                 NaN  Harmful Effects   \n...                          ...                 ...              ...   \n62499                        NaN                 NaN  Harmful Effects   \n62500                        NaN                 NaN  Harmful Effects   \n62501                        NaN                 NaN  Harmful Effects   \n62502                        NaN                 NaN  Harmful Effects   \n62503                        NaN                 NaN  Harmful Effects   \n\n          ConsumptionPattern      Sex AgeCategory  AgeGroup ConditionTypeID  \\\n0      Excessive Alcohol Use   Female    Under 21   Overall          EXCSVE   \n1      Excessive Alcohol Use   Female    Under 21   Overall          EXCSVE   \n2      Excessive Alcohol Use   Female    Under 21  Under 21           ACUTE   \n3      Excessive Alcohol Use     Male       Other   Overall           ACUTE   \n4            Any Alcohol Use     Male       Other   Overall          ANYALC   \n...                      ...      ...         ...       ...             ...   \n62499        Any Alcohol Use  Overall       Other       65+          ANYALC   \n62500        Any Alcohol Use  Overall       Other       65+          ANYALC   \n62501  Excessive Alcohol Use  Overall       Other       65+          EXCSVE   \n62502  Excessive Alcohol Use  Overall       Other       65+          EXCSVE   \n62503  Excessive Alcohol Use  Overall       Other       65+          EXCSVE   \n\n      AgeCategoryID  \n0              UN21  \n1              UN21  \n2              UN21  \n3               OTH  \n4               OTH  \n...             ...  \n62499           OTH  \n62500           OTH  \n62501           OTH  \n62502           OTH  \n62503           OTH  \n\n[62504 rows x 16 columns]",
      "text/html": "<div>\n<style scoped>\n    .dataframe tbody tr th:only-of-type {\n        vertical-align: middle;\n    }\n\n    .dataframe tbody tr th {\n        vertical-align: top;\n    }\n\n    .dataframe thead th {\n        text-align: right;\n    }\n</style>\n<table border=\"1\" class=\"dataframe\">\n  <thead>\n    <tr style=\"text-align: right;\">\n      <th></th>\n      <th>Unnamed: 0</th>\n      <th>LocationDesc</th>\n      <th>ConditionType</th>\n      <th>Category</th>\n      <th>Cause_of_Death</th>\n      <th>Data_Value</th>\n      <th>Data_Value_Alt</th>\n      <th>Data_Value_Footnote_Symbol</th>\n      <th>Data_Value_Footnote</th>\n      <th>Effect</th>\n      <th>ConsumptionPattern</th>\n      <th>Sex</th>\n      <th>AgeCategory</th>\n      <th>AgeGroup</th>\n      <th>ConditionTypeID</th>\n      <th>AgeCategoryID</th>\n    </tr>\n  </thead>\n  <tbody>\n    <tr>\n      <th>0</th>\n      <td>1</td>\n      <td>West Virginia</td>\n      <td>Chronic</td>\n      <td>Total</td>\n      <td>Total for All Causes</td>\n      <td>0</td>\n      <td>0.0</td>\n      <td>NaN</td>\n      <td>NaN</td>\n      <td>Harmful Effects</td>\n      <td>Excessive Alcohol Use</td>\n      <td>Female</td>\n      <td>Under 21</td>\n      <td>Overall</td>\n      <td>EXCSVE</td>\n      <td>UN21</td>\n    </tr>\n    <tr>\n      <th>1</th>\n      <td>2</td>\n      <td>West Virginia</td>\n      <td>Total</td>\n      <td>Total</td>\n      <td>Total for All Causes</td>\n      <td>7</td>\n      <td>7.0</td>\n      <td>NaN</td>\n      <td>NaN</td>\n      <td>Harmful Effects</td>\n      <td>Excessive Alcohol Use</td>\n      <td>Female</td>\n      <td>Under 21</td>\n      <td>Overall</td>\n      <td>EXCSVE</td>\n      <td>UN21</td>\n    </tr>\n    <tr>\n      <th>2</th>\n      <td>3</td>\n      <td>United States</td>\n      <td>Acute</td>\n      <td>Alcohol-Related Poisonings</td>\n      <td>Alcohol poisoning</td>\n      <td>13</td>\n      <td>13.0</td>\n      <td>NaN</td>\n      <td>NaN</td>\n      <td>Harmful Effects</td>\n      <td>Excessive Alcohol Use</td>\n      <td>Female</td>\n      <td>Under 21</td>\n      <td>Under 21</td>\n      <td>ACUTE</td>\n      <td>UN21</td>\n    </tr>\n    <tr>\n      <th>3</th>\n      <td>4</td>\n      <td>United States</td>\n      <td>Acute</td>\n      <td>Alcohol-Related Poisonings</td>\n      <td>Alcohol poisoning</td>\n      <td>1761</td>\n      <td>1761.0</td>\n      <td>NaN</td>\n      <td>NaN</td>\n      <td>Harmful Effects</td>\n      <td>Excessive Alcohol Use</td>\n      <td>Male</td>\n      <td>Other</td>\n      <td>Overall</td>\n      <td>ACUTE</td>\n      <td>OTH</td>\n    </tr>\n    <tr>\n      <th>4</th>\n      <td>5</td>\n      <td>West Virginia</td>\n      <td>Acute</td>\n      <td>Total</td>\n      <td>Total for All Causes</td>\n      <td>367</td>\n      <td>367.0</td>\n      <td>NaN</td>\n      <td>NaN</td>\n      <td>Harmful Effects</td>\n      <td>Any Alcohol Use</td>\n      <td>Male</td>\n      <td>Other</td>\n      <td>Overall</td>\n      <td>ANYALC</td>\n      <td>OTH</td>\n    </tr>\n    <tr>\n      <th>...</th>\n      <td>...</td>\n      <td>...</td>\n      <td>...</td>\n      <td>...</td>\n      <td>...</td>\n      <td>...</td>\n      <td>...</td>\n      <td>...</td>\n      <td>...</td>\n      <td>...</td>\n      <td>...</td>\n      <td>...</td>\n      <td>...</td>\n      <td>...</td>\n      <td>...</td>\n      <td>...</td>\n    </tr>\n    <tr>\n      <th>62499</th>\n      <td>62500</td>\n      <td>Wyoming</td>\n      <td>Chronic</td>\n      <td>Total</td>\n      <td>Total for All Causes</td>\n      <td>83</td>\n      <td>83.0</td>\n      <td>NaN</td>\n      <td>NaN</td>\n      <td>Harmful Effects</td>\n      <td>Any Alcohol Use</td>\n      <td>Overall</td>\n      <td>Other</td>\n      <td>65+</td>\n      <td>ANYALC</td>\n      <td>OTH</td>\n    </tr>\n    <tr>\n      <th>62500</th>\n      <td>62501</td>\n      <td>Wyoming</td>\n      <td>Total</td>\n      <td>Total</td>\n      <td>Total for All Causes</td>\n      <td>102</td>\n      <td>102.0</td>\n      <td>NaN</td>\n      <td>NaN</td>\n      <td>Harmful Effects</td>\n      <td>Any Alcohol Use</td>\n      <td>Overall</td>\n      <td>Other</td>\n      <td>65+</td>\n      <td>ANYALC</td>\n      <td>OTH</td>\n    </tr>\n    <tr>\n      <th>62501</th>\n      <td>62502</td>\n      <td>Wyoming</td>\n      <td>Acute</td>\n      <td>Total</td>\n      <td>Total for All Causes</td>\n      <td>19</td>\n      <td>19.0</td>\n      <td>NaN</td>\n      <td>NaN</td>\n      <td>Harmful Effects</td>\n      <td>Excessive Alcohol Use</td>\n      <td>Overall</td>\n      <td>Other</td>\n      <td>65+</td>\n      <td>EXCSVE</td>\n      <td>OTH</td>\n    </tr>\n    <tr>\n      <th>62502</th>\n      <td>62503</td>\n      <td>Wyoming</td>\n      <td>Chronic</td>\n      <td>Total</td>\n      <td>Total for All Causes</td>\n      <td>77</td>\n      <td>77.0</td>\n      <td>NaN</td>\n      <td>NaN</td>\n      <td>Harmful Effects</td>\n      <td>Excessive Alcohol Use</td>\n      <td>Overall</td>\n      <td>Other</td>\n      <td>65+</td>\n      <td>EXCSVE</td>\n      <td>OTH</td>\n    </tr>\n    <tr>\n      <th>62503</th>\n      <td>62504</td>\n      <td>Wyoming</td>\n      <td>Total</td>\n      <td>Total</td>\n      <td>Total for All Causes</td>\n      <td>96</td>\n      <td>96.0</td>\n      <td>NaN</td>\n      <td>NaN</td>\n      <td>Harmful Effects</td>\n      <td>Excessive Alcohol Use</td>\n      <td>Overall</td>\n      <td>Other</td>\n      <td>65+</td>\n      <td>EXCSVE</td>\n      <td>OTH</td>\n    </tr>\n  </tbody>\n</table>\n<p>62504 rows × 16 columns</p>\n</div>"
     },
     "execution_count": 6,
     "metadata": {},
     "output_type": "execute_result"
    }
   ],
   "source": [
    "import pandas as pd \n",
    "df = pd.read_csv('../filtered_alc_mort.csv')\n",
    "df"
   ]
  },
  {
   "cell_type": "code",
   "outputs": [
    {
     "ename": "NameError",
     "evalue": "name 'full' is not defined",
     "output_type": "error",
     "traceback": [
      "\u001B[0;31m---------------------------------------------------------------------------\u001B[0m",
      "\u001B[0;31mNameError\u001B[0m                                 Traceback (most recent call last)",
      "Cell \u001B[0;32mIn[2], line 1\u001B[0m\n\u001B[0;32m----> 1\u001B[0m \u001B[43mfull\u001B[49m\n",
      "\u001B[0;31mNameError\u001B[0m: name 'full' is not defined"
     ]
    }
   ],
   "source": [],
   "metadata": {
    "collapsed": false,
    "ExecuteTime": {
     "end_time": "2024-04-05T20:35:06.465551Z",
     "start_time": "2024-04-05T20:35:06.451215Z"
    }
   },
   "id": "f1d8b07848e0e782",
   "execution_count": 2
  },
  {
   "cell_type": "code",
   "outputs": [],
   "source": [],
   "metadata": {
    "collapsed": false
   },
   "id": "de635c3e0d979663"
  }
 ],
 "metadata": {
  "kernelspec": {
   "display_name": "Python 3 (ipykernel)",
   "language": "python",
   "name": "python3"
  },
  "language_info": {
   "codemirror_mode": {
    "name": "ipython",
    "version": 3
   },
   "file_extension": ".py",
   "mimetype": "text/x-python",
   "name": "python",
   "nbconvert_exporter": "python",
   "pygments_lexer": "ipython3",
   "version": "3.12.2"
  }
 },
 "nbformat": 4,
 "nbformat_minor": 5
}
