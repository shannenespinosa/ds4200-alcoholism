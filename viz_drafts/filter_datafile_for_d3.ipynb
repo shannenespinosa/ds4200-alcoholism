{
 "cells": [
  {
   "cell_type": "code",
   "execution_count": 28,
   "id": "initial_id",
   "metadata": {
    "collapsed": true,
    "ExecuteTime": {
     "end_time": "2024-04-05T21:47:48.761759Z",
     "start_time": "2024-04-05T21:47:48.654210Z"
    }
   },
   "outputs": [
    {
     "data": {
      "text/plain": "        LocationDesc ConditionType                    Category  \\\n1      West Virginia       Chronic                       Total   \n2      West Virginia         Total                       Total   \n3      United States         Acute  Alcohol-Related Poisonings   \n4      United States         Acute  Alcohol-Related Poisonings   \n5      West Virginia         Acute                       Total   \n...              ...           ...                         ...   \n62500        Wyoming       Chronic                       Total   \n62501        Wyoming         Total                       Total   \n62502        Wyoming         Acute                       Total   \n62503        Wyoming       Chronic                       Total   \n62504        Wyoming         Total                       Total   \n\n             Cause_of_Death  Data_Value  Data_Value_Alt  \\\n1      Total for All Causes         0.0             0.0   \n2      Total for All Causes         7.0             7.0   \n3         Alcohol poisoning        13.0            13.0   \n4         Alcohol poisoning      1761.0          1761.0   \n5      Total for All Causes       367.0           367.0   \n...                     ...         ...             ...   \n62500  Total for All Causes        83.0            83.0   \n62501  Total for All Causes       102.0           102.0   \n62502  Total for All Causes        19.0            19.0   \n62503  Total for All Causes        77.0            77.0   \n62504  Total for All Causes        96.0            96.0   \n\n      Data_Value_Footnote_Symbol Data_Value_Footnote           Effect  \\\n1                            NaN                 NaN  Harmful Effects   \n2                            NaN                 NaN  Harmful Effects   \n3                            NaN                 NaN  Harmful Effects   \n4                            NaN                 NaN  Harmful Effects   \n5                            NaN                 NaN  Harmful Effects   \n...                          ...                 ...              ...   \n62500                        NaN                 NaN  Harmful Effects   \n62501                        NaN                 NaN  Harmful Effects   \n62502                        NaN                 NaN  Harmful Effects   \n62503                        NaN                 NaN  Harmful Effects   \n62504                        NaN                 NaN  Harmful Effects   \n\n          ConsumptionPattern      Sex AgeCategory  AgeGroup ConditionTypeID  \\\n1      Excessive Alcohol Use   Female    Under 21   Overall          EXCSVE   \n2      Excessive Alcohol Use   Female    Under 21   Overall          EXCSVE   \n3      Excessive Alcohol Use   Female    Under 21  Under 21           ACUTE   \n4      Excessive Alcohol Use     Male       Other   Overall           ACUTE   \n5            Any Alcohol Use     Male       Other   Overall          ANYALC   \n...                      ...      ...         ...       ...             ...   \n62500        Any Alcohol Use  Overall       Other       65+          ANYALC   \n62501        Any Alcohol Use  Overall       Other       65+          ANYALC   \n62502  Excessive Alcohol Use  Overall       Other       65+          EXCSVE   \n62503  Excessive Alcohol Use  Overall       Other       65+          EXCSVE   \n62504  Excessive Alcohol Use  Overall       Other       65+          EXCSVE   \n\n      AgeCategoryID  \n1              UN21  \n2              UN21  \n3              UN21  \n4               OTH  \n5               OTH  \n...             ...  \n62500           OTH  \n62501           OTH  \n62502           OTH  \n62503           OTH  \n62504           OTH  \n\n[62504 rows x 15 columns]",
      "text/html": "<div>\n<style scoped>\n    .dataframe tbody tr th:only-of-type {\n        vertical-align: middle;\n    }\n\n    .dataframe tbody tr th {\n        vertical-align: top;\n    }\n\n    .dataframe thead th {\n        text-align: right;\n    }\n</style>\n<table border=\"1\" class=\"dataframe\">\n  <thead>\n    <tr style=\"text-align: right;\">\n      <th></th>\n      <th>LocationDesc</th>\n      <th>ConditionType</th>\n      <th>Category</th>\n      <th>Cause_of_Death</th>\n      <th>Data_Value</th>\n      <th>Data_Value_Alt</th>\n      <th>Data_Value_Footnote_Symbol</th>\n      <th>Data_Value_Footnote</th>\n      <th>Effect</th>\n      <th>ConsumptionPattern</th>\n      <th>Sex</th>\n      <th>AgeCategory</th>\n      <th>AgeGroup</th>\n      <th>ConditionTypeID</th>\n      <th>AgeCategoryID</th>\n    </tr>\n  </thead>\n  <tbody>\n    <tr>\n      <th>1</th>\n      <td>West Virginia</td>\n      <td>Chronic</td>\n      <td>Total</td>\n      <td>Total for All Causes</td>\n      <td>0.0</td>\n      <td>0.0</td>\n      <td>NaN</td>\n      <td>NaN</td>\n      <td>Harmful Effects</td>\n      <td>Excessive Alcohol Use</td>\n      <td>Female</td>\n      <td>Under 21</td>\n      <td>Overall</td>\n      <td>EXCSVE</td>\n      <td>UN21</td>\n    </tr>\n    <tr>\n      <th>2</th>\n      <td>West Virginia</td>\n      <td>Total</td>\n      <td>Total</td>\n      <td>Total for All Causes</td>\n      <td>7.0</td>\n      <td>7.0</td>\n      <td>NaN</td>\n      <td>NaN</td>\n      <td>Harmful Effects</td>\n      <td>Excessive Alcohol Use</td>\n      <td>Female</td>\n      <td>Under 21</td>\n      <td>Overall</td>\n      <td>EXCSVE</td>\n      <td>UN21</td>\n    </tr>\n    <tr>\n      <th>3</th>\n      <td>United States</td>\n      <td>Acute</td>\n      <td>Alcohol-Related Poisonings</td>\n      <td>Alcohol poisoning</td>\n      <td>13.0</td>\n      <td>13.0</td>\n      <td>NaN</td>\n      <td>NaN</td>\n      <td>Harmful Effects</td>\n      <td>Excessive Alcohol Use</td>\n      <td>Female</td>\n      <td>Under 21</td>\n      <td>Under 21</td>\n      <td>ACUTE</td>\n      <td>UN21</td>\n    </tr>\n    <tr>\n      <th>4</th>\n      <td>United States</td>\n      <td>Acute</td>\n      <td>Alcohol-Related Poisonings</td>\n      <td>Alcohol poisoning</td>\n      <td>1761.0</td>\n      <td>1761.0</td>\n      <td>NaN</td>\n      <td>NaN</td>\n      <td>Harmful Effects</td>\n      <td>Excessive Alcohol Use</td>\n      <td>Male</td>\n      <td>Other</td>\n      <td>Overall</td>\n      <td>ACUTE</td>\n      <td>OTH</td>\n    </tr>\n    <tr>\n      <th>5</th>\n      <td>West Virginia</td>\n      <td>Acute</td>\n      <td>Total</td>\n      <td>Total for All Causes</td>\n      <td>367.0</td>\n      <td>367.0</td>\n      <td>NaN</td>\n      <td>NaN</td>\n      <td>Harmful Effects</td>\n      <td>Any Alcohol Use</td>\n      <td>Male</td>\n      <td>Other</td>\n      <td>Overall</td>\n      <td>ANYALC</td>\n      <td>OTH</td>\n    </tr>\n    <tr>\n      <th>...</th>\n      <td>...</td>\n      <td>...</td>\n      <td>...</td>\n      <td>...</td>\n      <td>...</td>\n      <td>...</td>\n      <td>...</td>\n      <td>...</td>\n      <td>...</td>\n      <td>...</td>\n      <td>...</td>\n      <td>...</td>\n      <td>...</td>\n      <td>...</td>\n      <td>...</td>\n    </tr>\n    <tr>\n      <th>62500</th>\n      <td>Wyoming</td>\n      <td>Chronic</td>\n      <td>Total</td>\n      <td>Total for All Causes</td>\n      <td>83.0</td>\n      <td>83.0</td>\n      <td>NaN</td>\n      <td>NaN</td>\n      <td>Harmful Effects</td>\n      <td>Any Alcohol Use</td>\n      <td>Overall</td>\n      <td>Other</td>\n      <td>65+</td>\n      <td>ANYALC</td>\n      <td>OTH</td>\n    </tr>\n    <tr>\n      <th>62501</th>\n      <td>Wyoming</td>\n      <td>Total</td>\n      <td>Total</td>\n      <td>Total for All Causes</td>\n      <td>102.0</td>\n      <td>102.0</td>\n      <td>NaN</td>\n      <td>NaN</td>\n      <td>Harmful Effects</td>\n      <td>Any Alcohol Use</td>\n      <td>Overall</td>\n      <td>Other</td>\n      <td>65+</td>\n      <td>ANYALC</td>\n      <td>OTH</td>\n    </tr>\n    <tr>\n      <th>62502</th>\n      <td>Wyoming</td>\n      <td>Acute</td>\n      <td>Total</td>\n      <td>Total for All Causes</td>\n      <td>19.0</td>\n      <td>19.0</td>\n      <td>NaN</td>\n      <td>NaN</td>\n      <td>Harmful Effects</td>\n      <td>Excessive Alcohol Use</td>\n      <td>Overall</td>\n      <td>Other</td>\n      <td>65+</td>\n      <td>EXCSVE</td>\n      <td>OTH</td>\n    </tr>\n    <tr>\n      <th>62503</th>\n      <td>Wyoming</td>\n      <td>Chronic</td>\n      <td>Total</td>\n      <td>Total for All Causes</td>\n      <td>77.0</td>\n      <td>77.0</td>\n      <td>NaN</td>\n      <td>NaN</td>\n      <td>Harmful Effects</td>\n      <td>Excessive Alcohol Use</td>\n      <td>Overall</td>\n      <td>Other</td>\n      <td>65+</td>\n      <td>EXCSVE</td>\n      <td>OTH</td>\n    </tr>\n    <tr>\n      <th>62504</th>\n      <td>Wyoming</td>\n      <td>Total</td>\n      <td>Total</td>\n      <td>Total for All Causes</td>\n      <td>96.0</td>\n      <td>96.0</td>\n      <td>NaN</td>\n      <td>NaN</td>\n      <td>Harmful Effects</td>\n      <td>Excessive Alcohol Use</td>\n      <td>Overall</td>\n      <td>Other</td>\n      <td>65+</td>\n      <td>EXCSVE</td>\n      <td>OTH</td>\n    </tr>\n  </tbody>\n</table>\n<p>62504 rows × 15 columns</p>\n</div>"
     },
     "execution_count": 28,
     "metadata": {},
     "output_type": "execute_result"
    }
   ],
   "source": [
    "import pandas as pd\n",
    "df = pd.read_csv('../filtered_alc_mort.csv', index_col=0)\n",
    "df.head()\n",
    "df['Data_Value'] = df['Data_Value'].replace(\"-\", 0)\n",
    "df['Data_Value'] = pd.to_numeric(df['Data_Value'])\n",
    "df"
   ]
  },
  {
   "cell_type": "code",
   "outputs": [
    {
     "data": {
      "text/plain": "    LocationDesc  Data_Value Category     Sex\n1  West Virginia         0.0    Total  Female\n2  West Virginia         7.0    Total  Female\n5  West Virginia       367.0    Total    Male\n6  West Virginia       406.0    Total    Male\n7  West Virginia       773.0    Total    Male",
      "text/html": "<div>\n<style scoped>\n    .dataframe tbody tr th:only-of-type {\n        vertical-align: middle;\n    }\n\n    .dataframe tbody tr th {\n        vertical-align: top;\n    }\n\n    .dataframe thead th {\n        text-align: right;\n    }\n</style>\n<table border=\"1\" class=\"dataframe\">\n  <thead>\n    <tr style=\"text-align: right;\">\n      <th></th>\n      <th>LocationDesc</th>\n      <th>Data_Value</th>\n      <th>Category</th>\n      <th>Sex</th>\n    </tr>\n  </thead>\n  <tbody>\n    <tr>\n      <th>1</th>\n      <td>West Virginia</td>\n      <td>0.0</td>\n      <td>Total</td>\n      <td>Female</td>\n    </tr>\n    <tr>\n      <th>2</th>\n      <td>West Virginia</td>\n      <td>7.0</td>\n      <td>Total</td>\n      <td>Female</td>\n    </tr>\n    <tr>\n      <th>5</th>\n      <td>West Virginia</td>\n      <td>367.0</td>\n      <td>Total</td>\n      <td>Male</td>\n    </tr>\n    <tr>\n      <th>6</th>\n      <td>West Virginia</td>\n      <td>406.0</td>\n      <td>Total</td>\n      <td>Male</td>\n    </tr>\n    <tr>\n      <th>7</th>\n      <td>West Virginia</td>\n      <td>773.0</td>\n      <td>Total</td>\n      <td>Male</td>\n    </tr>\n  </tbody>\n</table>\n</div>"
     },
     "execution_count": 38,
     "metadata": {},
     "output_type": "execute_result"
    }
   ],
   "source": [
    "df_short = df[[\"LocationDesc\", \"Data_Value\", 'Category', 'Sex']]\n",
    "df_short = df_short[df_short['Category'] == 'Total']\n",
    "df_short = df_short[df_short['Sex'] != 'Overall']\n",
    "df_short.head()"
   ],
   "metadata": {
    "collapsed": false,
    "ExecuteTime": {
     "end_time": "2024-04-05T22:04:30.199145Z",
     "start_time": "2024-04-05T22:04:30.175851Z"
    }
   },
   "id": "d7e1d96f31928a4f",
   "execution_count": 38
  },
  {
   "cell_type": "code",
   "outputs": [],
   "source": [
    "df_short_grouped = df_short.groupby(['LocationDesc', 'Sex']).max()"
   ],
   "metadata": {
    "collapsed": false,
    "ExecuteTime": {
     "end_time": "2024-04-05T22:04:30.957005Z",
     "start_time": "2024-04-05T22:04:30.951722Z"
    }
   },
   "id": "4553c5013f63ed6e",
   "execution_count": 39
  },
  {
   "cell_type": "code",
   "outputs": [
    {
     "data": {
      "text/plain": "                     Data_Value Category\nLocationDesc Sex                        \nAlabama      Female       635.0    Total\n             Male        1680.0    Total\nAlaska       Female       153.0    Total\n             Male         293.0    Total\nArizona      Female      1163.0    Total",
      "text/html": "<div>\n<style scoped>\n    .dataframe tbody tr th:only-of-type {\n        vertical-align: middle;\n    }\n\n    .dataframe tbody tr th {\n        vertical-align: top;\n    }\n\n    .dataframe thead th {\n        text-align: right;\n    }\n</style>\n<table border=\"1\" class=\"dataframe\">\n  <thead>\n    <tr style=\"text-align: right;\">\n      <th></th>\n      <th></th>\n      <th>Data_Value</th>\n      <th>Category</th>\n    </tr>\n    <tr>\n      <th>LocationDesc</th>\n      <th>Sex</th>\n      <th></th>\n      <th></th>\n    </tr>\n  </thead>\n  <tbody>\n    <tr>\n      <th rowspan=\"2\" valign=\"top\">Alabama</th>\n      <th>Female</th>\n      <td>635.0</td>\n      <td>Total</td>\n    </tr>\n    <tr>\n      <th>Male</th>\n      <td>1680.0</td>\n      <td>Total</td>\n    </tr>\n    <tr>\n      <th rowspan=\"2\" valign=\"top\">Alaska</th>\n      <th>Female</th>\n      <td>153.0</td>\n      <td>Total</td>\n    </tr>\n    <tr>\n      <th>Male</th>\n      <td>293.0</td>\n      <td>Total</td>\n    </tr>\n    <tr>\n      <th>Arizona</th>\n      <th>Female</th>\n      <td>1163.0</td>\n      <td>Total</td>\n    </tr>\n  </tbody>\n</table>\n</div>"
     },
     "execution_count": 40,
     "metadata": {},
     "output_type": "execute_result"
    }
   ],
   "source": [
    "df_short_grouped = df_short_grouped[df_short_grouped['Data_Value'] != 0.0]\n",
    "df_short_grouped.head()"
   ],
   "metadata": {
    "collapsed": false,
    "ExecuteTime": {
     "end_time": "2024-04-05T22:04:31.658450Z",
     "start_time": "2024-04-05T22:04:31.647270Z"
    }
   },
   "id": "c5d917052e87891b",
   "execution_count": 40
  },
  {
   "cell_type": "code",
   "outputs": [],
   "source": [
    "df_short_grouped.to_csv('../donut_plot.csv')"
   ],
   "metadata": {
    "collapsed": false,
    "ExecuteTime": {
     "end_time": "2024-04-05T22:04:36.209784Z",
     "start_time": "2024-04-05T22:04:36.200710Z"
    }
   },
   "id": "bfb64debd79c179a",
   "execution_count": 41
  },
  {
   "cell_type": "code",
   "outputs": [],
   "source": [],
   "metadata": {
    "collapsed": false,
    "ExecuteTime": {
     "end_time": "2024-04-05T21:47:48.799267Z",
     "start_time": "2024-04-05T21:47:48.785143Z"
    }
   },
   "id": "7f7aa54c3fc04f03",
   "execution_count": 32
  }
 ],
 "metadata": {
  "kernelspec": {
   "display_name": "Python 3",
   "language": "python",
   "name": "python3"
  },
  "language_info": {
   "codemirror_mode": {
    "name": "ipython",
    "version": 2
   },
   "file_extension": ".py",
   "mimetype": "text/x-python",
   "name": "python",
   "nbconvert_exporter": "python",
   "pygments_lexer": "ipython2",
   "version": "2.7.6"
  }
 },
 "nbformat": 4,
 "nbformat_minor": 5
}
