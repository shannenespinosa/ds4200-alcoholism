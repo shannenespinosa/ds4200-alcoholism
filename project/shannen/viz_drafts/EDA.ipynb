{
 "cells": [
  {
   "cell_type": "code",
   "execution_count": 2,
   "id": "initial_id",
   "metadata": {
    "ExecuteTime": {
     "end_time": "2024-03-24T23:44:21.874254Z",
     "start_time": "2024-03-24T23:44:20.340276Z"
    }
   },
   "outputs": [],
   "source": [
    "import pandas as pd\n",
    "from vega_datasets import data\n",
    "import altair as alt\n",
    "import matplotlib.pyplot as plt"
   ]
  },
  {
   "cell_type": "code",
   "execution_count": 3,
   "id": "911889c457a73132",
   "metadata": {
    "ExecuteTime": {
     "end_time": "2024-03-19T20:35:25.026124Z",
     "start_time": "2024-03-19T20:35:24.940252Z"
    },
    "collapsed": false,
    "jupyter": {
     "outputs_hidden": false
    }
   },
   "outputs": [],
   "source": [
    "alc_df = pd.read_csv('filtered_alc_mort.csv')\n",
    "alc_df.head()\n",
    "alc_df[\"Fatalities\"] = alc_df[\"Data_Value\"].replace(\"-\" , 0).fillna(0).astype(int)"
   ]
  },
  {
   "cell_type": "code",
   "execution_count": 4,
   "id": "c93ea2cfbdf2e811",
   "metadata": {
    "ExecuteTime": {
     "end_time": "2024-03-19T20:35:25.042380Z",
     "start_time": "2024-03-19T20:35:25.026209Z"
    },
    "collapsed": false,
    "jupyter": {
     "outputs_hidden": false
    }
   },
   "outputs": [
    {
     "data": {
      "text/plain": [
       "LocationDesc  Cause_of_Death                                      Sex    \n",
       "Alabama       Air-space transport                                 Female      3\n",
       "                                                                  Male        3\n",
       "                                                                  Overall    13\n",
       "              Alcohol abuse                                       Female      3\n",
       "                                                                  Male        3\n",
       "                                                                             ..\n",
       "Wyoming       Unprovoked seizures, epilepsy, or seizure disorder  Male        3\n",
       "                                                                  Overall    13\n",
       "              Water transport                                     Female      3\n",
       "                                                                  Male        3\n",
       "                                                                  Overall    13\n",
       "Length: 9204, dtype: int64"
      ]
     },
     "execution_count": 4,
     "metadata": {},
     "output_type": "execute_result"
    }
   ],
   "source": [
    "gb = alc_df.groupby(['LocationDesc', \"Cause_of_Death\", \"Sex\"]).size()\n",
    "gb"
   ]
  },
  {
   "cell_type": "code",
   "execution_count": 5,
   "id": "b55d43fbe8379022",
   "metadata": {
    "ExecuteTime": {
     "end_time": "2024-03-19T20:35:25.110025Z",
     "start_time": "2024-03-19T20:35:25.043249Z"
    },
    "collapsed": false,
    "jupyter": {
     "outputs_hidden": false
    }
   },
   "outputs": [
    {
     "data": {
      "text/html": [
       "<div>\n",
       "<style scoped>\n",
       "    .dataframe tbody tr th:only-of-type {\n",
       "        vertical-align: middle;\n",
       "    }\n",
       "\n",
       "    .dataframe tbody tr th {\n",
       "        vertical-align: top;\n",
       "    }\n",
       "\n",
       "    .dataframe thead th {\n",
       "        text-align: right;\n",
       "    }\n",
       "</style>\n",
       "<table border=\"1\" class=\"dataframe\">\n",
       "  <thead>\n",
       "    <tr style=\"text-align: right;\">\n",
       "      <th></th>\n",
       "      <th>LocationDesc</th>\n",
       "      <th>ConditionType</th>\n",
       "      <th>Unnamed: 0</th>\n",
       "    </tr>\n",
       "  </thead>\n",
       "  <tbody>\n",
       "    <tr>\n",
       "      <th>0</th>\n",
       "      <td>Alabama</td>\n",
       "      <td>Acute</td>\n",
       "      <td>361</td>\n",
       "    </tr>\n",
       "    <tr>\n",
       "      <th>1</th>\n",
       "      <td>Alabama</td>\n",
       "      <td>Chronic</td>\n",
       "      <td>822</td>\n",
       "    </tr>\n",
       "    <tr>\n",
       "      <th>2</th>\n",
       "      <td>Alabama</td>\n",
       "      <td>Total</td>\n",
       "      <td>19</td>\n",
       "    </tr>\n",
       "    <tr>\n",
       "      <th>3</th>\n",
       "      <td>Alaska</td>\n",
       "      <td>Acute</td>\n",
       "      <td>361</td>\n",
       "    </tr>\n",
       "    <tr>\n",
       "      <th>4</th>\n",
       "      <td>Alaska</td>\n",
       "      <td>Chronic</td>\n",
       "      <td>822</td>\n",
       "    </tr>\n",
       "    <tr>\n",
       "      <th>...</th>\n",
       "      <td>...</td>\n",
       "      <td>...</td>\n",
       "      <td>...</td>\n",
       "    </tr>\n",
       "    <tr>\n",
       "      <th>151</th>\n",
       "      <td>Wisconsin</td>\n",
       "      <td>Chronic</td>\n",
       "      <td>822</td>\n",
       "    </tr>\n",
       "    <tr>\n",
       "      <th>152</th>\n",
       "      <td>Wisconsin</td>\n",
       "      <td>Total</td>\n",
       "      <td>19</td>\n",
       "    </tr>\n",
       "    <tr>\n",
       "      <th>153</th>\n",
       "      <td>Wyoming</td>\n",
       "      <td>Acute</td>\n",
       "      <td>361</td>\n",
       "    </tr>\n",
       "    <tr>\n",
       "      <th>154</th>\n",
       "      <td>Wyoming</td>\n",
       "      <td>Chronic</td>\n",
       "      <td>822</td>\n",
       "    </tr>\n",
       "    <tr>\n",
       "      <th>155</th>\n",
       "      <td>Wyoming</td>\n",
       "      <td>Total</td>\n",
       "      <td>19</td>\n",
       "    </tr>\n",
       "  </tbody>\n",
       "</table>\n",
       "<p>156 rows × 3 columns</p>\n",
       "</div>"
      ],
      "text/plain": [
       "    LocationDesc ConditionType  Unnamed: 0\n",
       "0        Alabama         Acute         361\n",
       "1        Alabama       Chronic         822\n",
       "2        Alabama         Total          19\n",
       "3         Alaska         Acute         361\n",
       "4         Alaska       Chronic         822\n",
       "..           ...           ...         ...\n",
       "151    Wisconsin       Chronic         822\n",
       "152    Wisconsin         Total          19\n",
       "153      Wyoming         Acute         361\n",
       "154      Wyoming       Chronic         822\n",
       "155      Wyoming         Total          19\n",
       "\n",
       "[156 rows x 3 columns]"
      ]
     },
     "execution_count": 5,
     "metadata": {},
     "output_type": "execute_result"
    }
   ],
   "source": [
    "gb = alc_df.groupby(['LocationDesc', 'ConditionType']).count().reset_index()\n",
    "\n",
    "#counts = gb.size().to_frame(name='counts')\n",
    "\n",
    "gb = gb.iloc[:,0:3]\n",
    "gb"
   ]
  },
  {
   "cell_type": "code",
   "execution_count": 6,
   "id": "1568bf9c57551f09",
   "metadata": {
    "ExecuteTime": {
     "end_time": "2024-03-19T20:35:25.114628Z",
     "start_time": "2024-03-19T20:35:25.108551Z"
    },
    "collapsed": false,
    "jupyter": {
     "outputs_hidden": false
    }
   },
   "outputs": [
    {
     "data": {
      "text/html": [
       "<div>\n",
       "<style scoped>\n",
       "    .dataframe tbody tr th:only-of-type {\n",
       "        vertical-align: middle;\n",
       "    }\n",
       "\n",
       "    .dataframe tbody tr th {\n",
       "        vertical-align: top;\n",
       "    }\n",
       "\n",
       "    .dataframe thead tr th {\n",
       "        text-align: left;\n",
       "    }\n",
       "\n",
       "    .dataframe thead tr:last-of-type th {\n",
       "        text-align: right;\n",
       "    }\n",
       "</style>\n",
       "<table border=\"1\" class=\"dataframe\">\n",
       "  <thead>\n",
       "    <tr>\n",
       "      <th></th>\n",
       "      <th colspan=\"3\" halign=\"left\">Unnamed: 0</th>\n",
       "    </tr>\n",
       "    <tr>\n",
       "      <th>ConditionType</th>\n",
       "      <th>Acute</th>\n",
       "      <th>Chronic</th>\n",
       "      <th>Total</th>\n",
       "    </tr>\n",
       "    <tr>\n",
       "      <th>LocationDesc</th>\n",
       "      <th></th>\n",
       "      <th></th>\n",
       "      <th></th>\n",
       "    </tr>\n",
       "  </thead>\n",
       "  <tbody>\n",
       "    <tr>\n",
       "      <th>Alabama</th>\n",
       "      <td>361</td>\n",
       "      <td>822</td>\n",
       "      <td>19</td>\n",
       "    </tr>\n",
       "    <tr>\n",
       "      <th>Alaska</th>\n",
       "      <td>361</td>\n",
       "      <td>822</td>\n",
       "      <td>19</td>\n",
       "    </tr>\n",
       "    <tr>\n",
       "      <th>Arizona</th>\n",
       "      <td>361</td>\n",
       "      <td>822</td>\n",
       "      <td>19</td>\n",
       "    </tr>\n",
       "    <tr>\n",
       "      <th>Arkansas</th>\n",
       "      <td>361</td>\n",
       "      <td>822</td>\n",
       "      <td>19</td>\n",
       "    </tr>\n",
       "    <tr>\n",
       "      <th>California</th>\n",
       "      <td>361</td>\n",
       "      <td>822</td>\n",
       "      <td>19</td>\n",
       "    </tr>\n",
       "  </tbody>\n",
       "</table>\n",
       "</div>"
      ],
      "text/plain": [
       "              Unnamed: 0              \n",
       "ConditionType      Acute Chronic Total\n",
       "LocationDesc                          \n",
       "Alabama              361     822    19\n",
       "Alaska               361     822    19\n",
       "Arizona              361     822    19\n",
       "Arkansas             361     822    19\n",
       "California           361     822    19"
      ]
     },
     "execution_count": 6,
     "metadata": {},
     "output_type": "execute_result"
    }
   ],
   "source": [
    "counts_p = gb.pivot(index='LocationDesc', columns='ConditionType')\n",
    "counts_p.head()"
   ]
  },
  {
   "cell_type": "code",
   "execution_count": 7,
   "id": "b4a535899929bd2a",
   "metadata": {
    "ExecuteTime": {
     "end_time": "2024-03-19T20:35:25.327637Z",
     "start_time": "2024-03-19T20:35:25.114779Z"
    },
    "collapsed": false,
    "jupyter": {
     "outputs_hidden": false
    }
   },
   "outputs": [
    {
     "data": {
      "text/html": [
       "<div>\n",
       "<style scoped>\n",
       "    .dataframe tbody tr th:only-of-type {\n",
       "        vertical-align: middle;\n",
       "    }\n",
       "\n",
       "    .dataframe tbody tr th {\n",
       "        vertical-align: top;\n",
       "    }\n",
       "\n",
       "    .dataframe thead th {\n",
       "        text-align: right;\n",
       "    }\n",
       "</style>\n",
       "<table border=\"1\" class=\"dataframe\">\n",
       "  <thead>\n",
       "    <tr style=\"text-align: right;\">\n",
       "      <th></th>\n",
       "      <th>featurecla</th>\n",
       "      <th>scalerank</th>\n",
       "      <th>adm1_code</th>\n",
       "      <th>diss_me</th>\n",
       "      <th>iso_3166_2</th>\n",
       "      <th>wikipedia</th>\n",
       "      <th>iso_a2</th>\n",
       "      <th>adm0_sr</th>\n",
       "      <th>name</th>\n",
       "      <th>name_alt</th>\n",
       "      <th>...</th>\n",
       "      <th>FCLASS_ID</th>\n",
       "      <th>FCLASS_PL</th>\n",
       "      <th>FCLASS_GR</th>\n",
       "      <th>FCLASS_IT</th>\n",
       "      <th>FCLASS_NL</th>\n",
       "      <th>FCLASS_SE</th>\n",
       "      <th>FCLASS_BD</th>\n",
       "      <th>FCLASS_UA</th>\n",
       "      <th>FCLASS_TLC</th>\n",
       "      <th>geometry</th>\n",
       "    </tr>\n",
       "  </thead>\n",
       "  <tbody>\n",
       "    <tr>\n",
       "      <th>0</th>\n",
       "      <td>Admin-1 scale rank</td>\n",
       "      <td>2</td>\n",
       "      <td>USA-3514</td>\n",
       "      <td>3514</td>\n",
       "      <td>US-MN</td>\n",
       "      <td>http://en.wikipedia.org/wiki/Minnesota</td>\n",
       "      <td>US</td>\n",
       "      <td>1</td>\n",
       "      <td>Minnesota</td>\n",
       "      <td>MN|Minn.</td>\n",
       "      <td>...</td>\n",
       "      <td>None</td>\n",
       "      <td>None</td>\n",
       "      <td>None</td>\n",
       "      <td>None</td>\n",
       "      <td>None</td>\n",
       "      <td>None</td>\n",
       "      <td>None</td>\n",
       "      <td>None</td>\n",
       "      <td>None</td>\n",
       "      <td>POLYGON ((-89.95766 47.28691, -90.13175 47.292...</td>\n",
       "    </tr>\n",
       "    <tr>\n",
       "      <th>1</th>\n",
       "      <td>Admin-1 scale rank</td>\n",
       "      <td>2</td>\n",
       "      <td>USA-3515</td>\n",
       "      <td>3515</td>\n",
       "      <td>US-MT</td>\n",
       "      <td>http://en.wikipedia.org/wiki/Montana</td>\n",
       "      <td>US</td>\n",
       "      <td>1</td>\n",
       "      <td>Montana</td>\n",
       "      <td>MT|Mont.</td>\n",
       "      <td>...</td>\n",
       "      <td>None</td>\n",
       "      <td>None</td>\n",
       "      <td>None</td>\n",
       "      <td>None</td>\n",
       "      <td>None</td>\n",
       "      <td>None</td>\n",
       "      <td>None</td>\n",
       "      <td>None</td>\n",
       "      <td>None</td>\n",
       "      <td>POLYGON ((-116.04823 49.00037, -113.05950 49.0...</td>\n",
       "    </tr>\n",
       "    <tr>\n",
       "      <th>2</th>\n",
       "      <td>Admin-1 scale rank</td>\n",
       "      <td>2</td>\n",
       "      <td>USA-3516</td>\n",
       "      <td>3516</td>\n",
       "      <td>US-ND</td>\n",
       "      <td>http://en.wikipedia.org/wiki/North_Dakota</td>\n",
       "      <td>US</td>\n",
       "      <td>1</td>\n",
       "      <td>North Dakota</td>\n",
       "      <td>ND|N.D.</td>\n",
       "      <td>...</td>\n",
       "      <td>None</td>\n",
       "      <td>None</td>\n",
       "      <td>None</td>\n",
       "      <td>None</td>\n",
       "      <td>None</td>\n",
       "      <td>None</td>\n",
       "      <td>None</td>\n",
       "      <td>None</td>\n",
       "      <td>None</td>\n",
       "      <td>POLYGON ((-97.22894 49.00089, -97.21414 48.902...</td>\n",
       "    </tr>\n",
       "    <tr>\n",
       "      <th>3</th>\n",
       "      <td>Admin-1 scale rank</td>\n",
       "      <td>2</td>\n",
       "      <td>USA-3517</td>\n",
       "      <td>3517</td>\n",
       "      <td>US-HI</td>\n",
       "      <td>http://en.wikipedia.org/wiki/Hawaii</td>\n",
       "      <td>US</td>\n",
       "      <td>8</td>\n",
       "      <td>Hawaii</td>\n",
       "      <td>HI|Hawaii</td>\n",
       "      <td>...</td>\n",
       "      <td>None</td>\n",
       "      <td>None</td>\n",
       "      <td>None</td>\n",
       "      <td>None</td>\n",
       "      <td>None</td>\n",
       "      <td>None</td>\n",
       "      <td>None</td>\n",
       "      <td>None</td>\n",
       "      <td>None</td>\n",
       "      <td>MULTIPOLYGON (((-155.93665 19.05939, -155.9080...</td>\n",
       "    </tr>\n",
       "    <tr>\n",
       "      <th>4</th>\n",
       "      <td>Admin-1 scale rank</td>\n",
       "      <td>2</td>\n",
       "      <td>USA-3518</td>\n",
       "      <td>3518</td>\n",
       "      <td>US-ID</td>\n",
       "      <td>http://en.wikipedia.org/wiki/Idaho</td>\n",
       "      <td>US</td>\n",
       "      <td>1</td>\n",
       "      <td>Idaho</td>\n",
       "      <td>ID|Idaho</td>\n",
       "      <td>...</td>\n",
       "      <td>None</td>\n",
       "      <td>None</td>\n",
       "      <td>None</td>\n",
       "      <td>None</td>\n",
       "      <td>None</td>\n",
       "      <td>None</td>\n",
       "      <td>None</td>\n",
       "      <td>None</td>\n",
       "      <td>None</td>\n",
       "      <td>POLYGON ((-116.04823 49.00037, -115.96780 47.9...</td>\n",
       "    </tr>\n",
       "  </tbody>\n",
       "</table>\n",
       "<p>5 rows × 122 columns</p>\n",
       "</div>"
      ],
      "text/plain": [
       "           featurecla  scalerank adm1_code  diss_me iso_3166_2  \\\n",
       "0  Admin-1 scale rank          2  USA-3514     3514      US-MN   \n",
       "1  Admin-1 scale rank          2  USA-3515     3515      US-MT   \n",
       "2  Admin-1 scale rank          2  USA-3516     3516      US-ND   \n",
       "3  Admin-1 scale rank          2  USA-3517     3517      US-HI   \n",
       "4  Admin-1 scale rank          2  USA-3518     3518      US-ID   \n",
       "\n",
       "                                   wikipedia iso_a2  adm0_sr          name  \\\n",
       "0     http://en.wikipedia.org/wiki/Minnesota     US        1     Minnesota   \n",
       "1       http://en.wikipedia.org/wiki/Montana     US        1       Montana   \n",
       "2  http://en.wikipedia.org/wiki/North_Dakota     US        1  North Dakota   \n",
       "3        http://en.wikipedia.org/wiki/Hawaii     US        8        Hawaii   \n",
       "4         http://en.wikipedia.org/wiki/Idaho     US        1         Idaho   \n",
       "\n",
       "    name_alt  ... FCLASS_ID FCLASS_PL FCLASS_GR FCLASS_IT FCLASS_NL FCLASS_SE  \\\n",
       "0   MN|Minn.  ...      None      None      None      None      None      None   \n",
       "1   MT|Mont.  ...      None      None      None      None      None      None   \n",
       "2    ND|N.D.  ...      None      None      None      None      None      None   \n",
       "3  HI|Hawaii  ...      None      None      None      None      None      None   \n",
       "4   ID|Idaho  ...      None      None      None      None      None      None   \n",
       "\n",
       "  FCLASS_BD FCLASS_UA FCLASS_TLC  \\\n",
       "0      None      None       None   \n",
       "1      None      None       None   \n",
       "2      None      None       None   \n",
       "3      None      None       None   \n",
       "4      None      None       None   \n",
       "\n",
       "                                            geometry  \n",
       "0  POLYGON ((-89.95766 47.28691, -90.13175 47.292...  \n",
       "1  POLYGON ((-116.04823 49.00037, -113.05950 49.0...  \n",
       "2  POLYGON ((-97.22894 49.00089, -97.21414 48.902...  \n",
       "3  MULTIPOLYGON (((-155.93665 19.05939, -155.9080...  \n",
       "4  POLYGON ((-116.04823 49.00037, -115.96780 47.9...  \n",
       "\n",
       "[5 rows x 122 columns]"
      ]
     },
     "execution_count": 7,
     "metadata": {},
     "output_type": "execute_result"
    }
   ],
   "source": [
    "import geopandas\n",
    "state = geopandas.read_file(\"ne_110m_admin_1_states_provinces/ne_110m_admin_1_states_provinces.shp\")\n",
    "state.head()"
   ]
  },
  {
   "cell_type": "code",
   "execution_count": 8,
   "id": "2deb1a174df76532",
   "metadata": {
    "ExecuteTime": {
     "end_time": "2024-03-19T20:35:25.418641Z",
     "start_time": "2024-03-19T20:35:25.327977Z"
    },
    "collapsed": false,
    "jupyter": {
     "outputs_hidden": false
    }
   },
   "outputs": [
    {
     "data": {
      "text/plain": [
       "(62504, 139)"
      ]
     },
     "execution_count": 8,
     "metadata": {},
     "output_type": "execute_result"
    }
   ],
   "source": [
    "full = pd.merge(state, alc_df, left_on='woe_name', right_on='LocationDesc', how='outer')\n",
    "full.head()\n",
    "full.shape"
   ]
  },
  {
   "cell_type": "code",
   "execution_count": 9,
   "id": "ba51a34cc5973309",
   "metadata": {
    "ExecuteTime": {
     "start_time": "2024-03-19T20:35:26.434864Z"
    },
    "collapsed": false,
    "jupyter": {
     "outputs_hidden": false
    }
   },
   "outputs": [
    {
     "data": {
      "text/plain": [
       "UrlData({\n",
       "  format: TopoDataFormat({\n",
       "    feature: 'states',\n",
       "    type: 'topojson'\n",
       "  }),\n",
       "  url: 'https://cdn.jsdelivr.net/npm/vega-datasets@v1.29.0/data/us-10m.json'\n",
       "})"
      ]
     },
     "execution_count": 9,
     "metadata": {},
     "output_type": "execute_result"
    }
   ],
   "source": [
    "states = alt.topo_feature(data.us_10m.url, feature='states')\n",
    "states"
   ]
  },
  {
   "cell_type": "code",
   "execution_count": 14,
   "id": "7e486ec5-1d4b-445a-96b5-050e997a74e8",
   "metadata": {},
   "outputs": [
    {
     "data": {
      "text/html": [
       "<div>\n",
       "<style scoped>\n",
       "    .dataframe tbody tr th:only-of-type {\n",
       "        vertical-align: middle;\n",
       "    }\n",
       "\n",
       "    .dataframe tbody tr th {\n",
       "        vertical-align: top;\n",
       "    }\n",
       "\n",
       "    .dataframe thead th {\n",
       "        text-align: right;\n",
       "    }\n",
       "</style>\n",
       "<table border=\"1\" class=\"dataframe\">\n",
       "  <thead>\n",
       "    <tr style=\"text-align: right;\">\n",
       "      <th></th>\n",
       "      <th>Unnamed: 0</th>\n",
       "      <th>LocationDesc</th>\n",
       "      <th>ConditionType</th>\n",
       "      <th>Category</th>\n",
       "      <th>Cause_of_Death</th>\n",
       "      <th>Data_Value</th>\n",
       "      <th>Data_Value_Alt</th>\n",
       "      <th>Data_Value_Footnote_Symbol</th>\n",
       "      <th>Data_Value_Footnote</th>\n",
       "      <th>Effect</th>\n",
       "      <th>ConsumptionPattern</th>\n",
       "      <th>Sex</th>\n",
       "      <th>AgeCategory</th>\n",
       "      <th>AgeGroup</th>\n",
       "      <th>ConditionTypeID</th>\n",
       "      <th>AgeCategoryID</th>\n",
       "      <th>Fatalities</th>\n",
       "    </tr>\n",
       "  </thead>\n",
       "  <tbody>\n",
       "    <tr>\n",
       "      <th>0</th>\n",
       "      <td>1</td>\n",
       "      <td>West Virginia</td>\n",
       "      <td>Chronic</td>\n",
       "      <td>Total</td>\n",
       "      <td>Total for All Causes</td>\n",
       "      <td>0</td>\n",
       "      <td>0.0</td>\n",
       "      <td>NaN</td>\n",
       "      <td>NaN</td>\n",
       "      <td>Harmful Effects</td>\n",
       "      <td>Excessive Alcohol Use</td>\n",
       "      <td>Female</td>\n",
       "      <td>Under 21</td>\n",
       "      <td>Overall</td>\n",
       "      <td>EXCSVE</td>\n",
       "      <td>UN21</td>\n",
       "      <td>0</td>\n",
       "    </tr>\n",
       "    <tr>\n",
       "      <th>1</th>\n",
       "      <td>2</td>\n",
       "      <td>West Virginia</td>\n",
       "      <td>Total</td>\n",
       "      <td>Total</td>\n",
       "      <td>Total for All Causes</td>\n",
       "      <td>7</td>\n",
       "      <td>7.0</td>\n",
       "      <td>NaN</td>\n",
       "      <td>NaN</td>\n",
       "      <td>Harmful Effects</td>\n",
       "      <td>Excessive Alcohol Use</td>\n",
       "      <td>Female</td>\n",
       "      <td>Under 21</td>\n",
       "      <td>Overall</td>\n",
       "      <td>EXCSVE</td>\n",
       "      <td>UN21</td>\n",
       "      <td>7</td>\n",
       "    </tr>\n",
       "    <tr>\n",
       "      <th>2</th>\n",
       "      <td>3</td>\n",
       "      <td>United States</td>\n",
       "      <td>Acute</td>\n",
       "      <td>Alcohol-Related Poisonings</td>\n",
       "      <td>Alcohol poisoning</td>\n",
       "      <td>13</td>\n",
       "      <td>13.0</td>\n",
       "      <td>NaN</td>\n",
       "      <td>NaN</td>\n",
       "      <td>Harmful Effects</td>\n",
       "      <td>Excessive Alcohol Use</td>\n",
       "      <td>Female</td>\n",
       "      <td>Under 21</td>\n",
       "      <td>Under 21</td>\n",
       "      <td>ACUTE</td>\n",
       "      <td>UN21</td>\n",
       "      <td>13</td>\n",
       "    </tr>\n",
       "    <tr>\n",
       "      <th>3</th>\n",
       "      <td>4</td>\n",
       "      <td>United States</td>\n",
       "      <td>Acute</td>\n",
       "      <td>Alcohol-Related Poisonings</td>\n",
       "      <td>Alcohol poisoning</td>\n",
       "      <td>1761</td>\n",
       "      <td>1761.0</td>\n",
       "      <td>NaN</td>\n",
       "      <td>NaN</td>\n",
       "      <td>Harmful Effects</td>\n",
       "      <td>Excessive Alcohol Use</td>\n",
       "      <td>Male</td>\n",
       "      <td>Other</td>\n",
       "      <td>Overall</td>\n",
       "      <td>ACUTE</td>\n",
       "      <td>OTH</td>\n",
       "      <td>1761</td>\n",
       "    </tr>\n",
       "    <tr>\n",
       "      <th>4</th>\n",
       "      <td>5</td>\n",
       "      <td>West Virginia</td>\n",
       "      <td>Acute</td>\n",
       "      <td>Total</td>\n",
       "      <td>Total for All Causes</td>\n",
       "      <td>367</td>\n",
       "      <td>367.0</td>\n",
       "      <td>NaN</td>\n",
       "      <td>NaN</td>\n",
       "      <td>Harmful Effects</td>\n",
       "      <td>Any Alcohol Use</td>\n",
       "      <td>Male</td>\n",
       "      <td>Other</td>\n",
       "      <td>Overall</td>\n",
       "      <td>ANYALC</td>\n",
       "      <td>OTH</td>\n",
       "      <td>367</td>\n",
       "    </tr>\n",
       "  </tbody>\n",
       "</table>\n",
       "</div>"
      ],
      "text/plain": [
       "   Unnamed: 0   LocationDesc ConditionType                    Category  \\\n",
       "0           1  West Virginia       Chronic                       Total   \n",
       "1           2  West Virginia         Total                       Total   \n",
       "2           3  United States         Acute  Alcohol-Related Poisonings   \n",
       "3           4  United States         Acute  Alcohol-Related Poisonings   \n",
       "4           5  West Virginia         Acute                       Total   \n",
       "\n",
       "         Cause_of_Death Data_Value  Data_Value_Alt Data_Value_Footnote_Symbol  \\\n",
       "0  Total for All Causes          0             0.0                        NaN   \n",
       "1  Total for All Causes          7             7.0                        NaN   \n",
       "2     Alcohol poisoning         13            13.0                        NaN   \n",
       "3     Alcohol poisoning       1761          1761.0                        NaN   \n",
       "4  Total for All Causes        367           367.0                        NaN   \n",
       "\n",
       "  Data_Value_Footnote           Effect     ConsumptionPattern     Sex  \\\n",
       "0                 NaN  Harmful Effects  Excessive Alcohol Use  Female   \n",
       "1                 NaN  Harmful Effects  Excessive Alcohol Use  Female   \n",
       "2                 NaN  Harmful Effects  Excessive Alcohol Use  Female   \n",
       "3                 NaN  Harmful Effects  Excessive Alcohol Use    Male   \n",
       "4                 NaN  Harmful Effects        Any Alcohol Use    Male   \n",
       "\n",
       "  AgeCategory  AgeGroup ConditionTypeID AgeCategoryID  Fatalities  \n",
       "0    Under 21   Overall          EXCSVE          UN21           0  \n",
       "1    Under 21   Overall          EXCSVE          UN21           7  \n",
       "2    Under 21  Under 21           ACUTE          UN21          13  \n",
       "3       Other   Overall           ACUTE           OTH        1761  \n",
       "4       Other   Overall          ANYALC           OTH         367  "
      ]
     },
     "execution_count": 14,
     "metadata": {},
     "output_type": "execute_result"
    }
   ],
   "source": [
    "alc_df.head()"
   ]
  },
  {
   "cell_type": "code",
   "execution_count": 11,
   "id": "d3bea6d1f29aa537",
   "metadata": {
    "ExecuteTime": {
     "start_time": "2024-03-19T20:35:26.436463Z"
    },
    "collapsed": false,
    "jupyter": {
     "outputs_hidden": false
    }
   },
   "outputs": [
    {
     "data": {
      "text/html": [
       "<div>\n",
       "<style scoped>\n",
       "    .dataframe tbody tr th:only-of-type {\n",
       "        vertical-align: middle;\n",
       "    }\n",
       "\n",
       "    .dataframe tbody tr th {\n",
       "        vertical-align: top;\n",
       "    }\n",
       "\n",
       "    .dataframe thead th {\n",
       "        text-align: right;\n",
       "    }\n",
       "</style>\n",
       "<table border=\"1\" class=\"dataframe\">\n",
       "  <thead>\n",
       "    <tr style=\"text-align: right;\">\n",
       "      <th></th>\n",
       "      <th>LocationDesc</th>\n",
       "      <th>AgeGroup</th>\n",
       "      <th>Fatalities</th>\n",
       "    </tr>\n",
       "  </thead>\n",
       "  <tbody>\n",
       "    <tr>\n",
       "      <th>0</th>\n",
       "      <td>Alabama</td>\n",
       "      <td>0-19</td>\n",
       "      <td>346</td>\n",
       "    </tr>\n",
       "    <tr>\n",
       "      <th>1</th>\n",
       "      <td>Alabama</td>\n",
       "      <td>20-34</td>\n",
       "      <td>1984</td>\n",
       "    </tr>\n",
       "    <tr>\n",
       "      <th>2</th>\n",
       "      <td>Alabama</td>\n",
       "      <td>35-49</td>\n",
       "      <td>2537</td>\n",
       "    </tr>\n",
       "    <tr>\n",
       "      <th>3</th>\n",
       "      <td>Alabama</td>\n",
       "      <td>50-64</td>\n",
       "      <td>3945</td>\n",
       "    </tr>\n",
       "    <tr>\n",
       "      <th>4</th>\n",
       "      <td>Alabama</td>\n",
       "      <td>65+</td>\n",
       "      <td>3940</td>\n",
       "    </tr>\n",
       "    <tr>\n",
       "      <th>...</th>\n",
       "      <td>...</td>\n",
       "      <td>...</td>\n",
       "      <td>...</td>\n",
       "    </tr>\n",
       "    <tr>\n",
       "      <th>358</th>\n",
       "      <td>Wyoming</td>\n",
       "      <td>20-34</td>\n",
       "      <td>206</td>\n",
       "    </tr>\n",
       "    <tr>\n",
       "      <th>359</th>\n",
       "      <td>Wyoming</td>\n",
       "      <td>35-49</td>\n",
       "      <td>360</td>\n",
       "    </tr>\n",
       "    <tr>\n",
       "      <th>360</th>\n",
       "      <td>Wyoming</td>\n",
       "      <td>50-64</td>\n",
       "      <td>598</td>\n",
       "    </tr>\n",
       "    <tr>\n",
       "      <th>361</th>\n",
       "      <td>Wyoming</td>\n",
       "      <td>65+</td>\n",
       "      <td>446</td>\n",
       "    </tr>\n",
       "    <tr>\n",
       "      <th>362</th>\n",
       "      <td>Wyoming</td>\n",
       "      <td>Overall</td>\n",
       "      <td>3561</td>\n",
       "    </tr>\n",
       "  </tbody>\n",
       "</table>\n",
       "<p>312 rows × 3 columns</p>\n",
       "</div>"
      ],
      "text/plain": [
       "    LocationDesc AgeGroup  Fatalities\n",
       "0        Alabama     0-19         346\n",
       "1        Alabama    20-34        1984\n",
       "2        Alabama    35-49        2537\n",
       "3        Alabama    50-64        3945\n",
       "4        Alabama      65+        3940\n",
       "..           ...      ...         ...\n",
       "358      Wyoming    20-34         206\n",
       "359      Wyoming    35-49         360\n",
       "360      Wyoming    50-64         598\n",
       "361      Wyoming      65+         446\n",
       "362      Wyoming  Overall        3561\n",
       "\n",
       "[312 rows x 3 columns]"
      ]
     },
     "execution_count": 11,
     "metadata": {},
     "output_type": "execute_result"
    }
   ],
   "source": [
    "alc_df_age = alc_df.groupby(by = ['LocationDesc', 'AgeGroup'], as_index= False).sum(\"Fatalities\")\n",
    "\n",
    "alc_df_age = alc_df_age.iloc[:, [0,1,4]]\n",
    "alc_df_age = alc_df_age[alc_df_age[\"AgeGroup\"] != \"Under 21\"]\n",
    "alc_df_age"
   ]
  },
  {
   "cell_type": "code",
   "execution_count": 12,
   "id": "4e523870b79719b5",
   "metadata": {
    "ExecuteTime": {
     "start_time": "2024-03-19T20:35:26.438264Z"
    },
    "collapsed": false,
    "jupyter": {
     "outputs_hidden": false
    }
   },
   "outputs": [
    {
     "data": {
      "text/plain": [
       "(312, 125)"
      ]
     },
     "execution_count": 12,
     "metadata": {},
     "output_type": "execute_result"
    }
   ],
   "source": [
    "full = pd.merge(state, alc_df_age, left_on='woe_name', right_on='LocationDesc', how='outer')\n",
    "full.head()\n",
    "full.shape"
   ]
  },
  {
   "cell_type": "code",
   "execution_count": 13,
   "id": "a7ee719ddab36144",
   "metadata": {
    "ExecuteTime": {
     "start_time": "2024-03-19T20:35:26.440502Z"
    },
    "collapsed": false,
    "jupyter": {
     "outputs_hidden": false
    }
   },
   "outputs": [
    {
     "ename": "NameError",
     "evalue": "name 'us_population' is not defined",
     "output_type": "error",
     "traceback": [
      "\u001b[0;31m---------------------------------------------------------------------------\u001b[0m",
      "\u001b[0;31mNameError\u001b[0m                                 Traceback (most recent call last)",
      "Cell \u001b[0;32mIn[13], line 24\u001b[0m\n\u001b[1;32m     16\u001b[0m click_state \u001b[38;5;241m=\u001b[39m alt\u001b[38;5;241m.\u001b[39mselection_point(fields\u001b[38;5;241m=\u001b[39m[\u001b[38;5;124m\"\u001b[39m\u001b[38;5;124mLocationDesc\u001b[39m\u001b[38;5;124m\"\u001b[39m])\n\u001b[1;32m     18\u001b[0m \u001b[38;5;66;03m# create a choropleth map using a lookup transform\u001b[39;00m\n\u001b[1;32m     19\u001b[0m \u001b[38;5;66;03m# define a condition on the opacity encoding depending on the selection\u001b[39;00m\n\u001b[1;32m     20\u001b[0m choropleth \u001b[38;5;241m=\u001b[39m (\n\u001b[1;32m     21\u001b[0m     alt\u001b[38;5;241m.\u001b[39mChart(full)\n\u001b[1;32m     22\u001b[0m     \u001b[38;5;241m.\u001b[39mmark_geoshape()\n\u001b[1;32m     23\u001b[0m     \u001b[38;5;241m.\u001b[39mtransform_lookup(\n\u001b[0;32m---> 24\u001b[0m         lookup\u001b[38;5;241m=\u001b[39m\u001b[38;5;124m\"\u001b[39m\u001b[38;5;124mid\u001b[39m\u001b[38;5;124m\"\u001b[39m, from_\u001b[38;5;241m=\u001b[39malt\u001b[38;5;241m.\u001b[39mLookupData(us_population, \u001b[38;5;124m\"\u001b[39m\u001b[38;5;124mid\u001b[39m\u001b[38;5;124m\"\u001b[39m, [\u001b[38;5;124m\"\u001b[39m\u001b[38;5;124mpopulation\u001b[39m\u001b[38;5;124m\"\u001b[39m, \u001b[38;5;124m\"\u001b[39m\u001b[38;5;124mstate\u001b[39m\u001b[38;5;124m\"\u001b[39m])\n\u001b[1;32m     25\u001b[0m     )\n\u001b[1;32m     26\u001b[0m     \u001b[38;5;241m.\u001b[39mencode(\n\u001b[1;32m     27\u001b[0m         color\u001b[38;5;241m=\u001b[39m\u001b[38;5;124m\"\u001b[39m\u001b[38;5;124mpopulation:Q\u001b[39m\u001b[38;5;124m\"\u001b[39m,\n\u001b[1;32m     28\u001b[0m         opacity\u001b[38;5;241m=\u001b[39malt\u001b[38;5;241m.\u001b[39mcondition(click_state, alt\u001b[38;5;241m.\u001b[39mvalue(\u001b[38;5;241m1\u001b[39m), alt\u001b[38;5;241m.\u001b[39mvalue(\u001b[38;5;241m0.2\u001b[39m)),\n\u001b[1;32m     29\u001b[0m         tooltip\u001b[38;5;241m=\u001b[39m[\u001b[38;5;124m\"\u001b[39m\u001b[38;5;124mstate:N\u001b[39m\u001b[38;5;124m\"\u001b[39m, \u001b[38;5;124m\"\u001b[39m\u001b[38;5;124mpopulation:Q\u001b[39m\u001b[38;5;124m\"\u001b[39m],\n\u001b[1;32m     30\u001b[0m     )\n\u001b[1;32m     31\u001b[0m     \u001b[38;5;241m.\u001b[39mproject(\u001b[38;5;28mtype\u001b[39m\u001b[38;5;241m=\u001b[39m\u001b[38;5;124m\"\u001b[39m\u001b[38;5;124malbersUsa\u001b[39m\u001b[38;5;124m\"\u001b[39m)\n\u001b[1;32m     32\u001b[0m )\n\u001b[1;32m     34\u001b[0m \u001b[38;5;66;03m# create a bar chart with a similar condition on the opacity encoding.\u001b[39;00m\n\u001b[1;32m     35\u001b[0m bars \u001b[38;5;241m=\u001b[39m (\n\u001b[1;32m     36\u001b[0m     alt\u001b[38;5;241m.\u001b[39mChart(\n\u001b[1;32m     37\u001b[0m         us_population\u001b[38;5;241m.\u001b[39mnlargest(\u001b[38;5;241m15\u001b[39m, \u001b[38;5;124m\"\u001b[39m\u001b[38;5;124mpopulation\u001b[39m\u001b[38;5;124m\"\u001b[39m), title\u001b[38;5;241m=\u001b[39m\u001b[38;5;124m\"\u001b[39m\u001b[38;5;124mTop 15 states by population\u001b[39m\u001b[38;5;124m\"\u001b[39m\n\u001b[0;32m   (...)\u001b[0m\n\u001b[1;32m     45\u001b[0m     )\n\u001b[1;32m     46\u001b[0m )\n",
      "\u001b[0;31mNameError\u001b[0m: name 'us_population' is not defined"
     ]
    }
   ],
   "source": [
    "import altair as alt\n",
    "from vega_datasets import data\n",
    "import geopandas as gpd\n",
    "\n",
    "ages = full['AgeGroup'].unique()\n",
    "\n",
    "input_dropdown = alt.binding_select(options=['Europe','Japan','USA'], name='Region ')\n",
    "selection = alt.selection_point(fields=['Origin'], bind=input_dropdown)\n",
    "color = alt.condition(\n",
    "    selection,\n",
    "    alt.Color('Origin:N').legend(None),\n",
    "    alt.value('lightgray')\n",
    ")\n",
    "\n",
    "# define a pointer selection\n",
    "click_state = alt.selection_point(fields=[\"LocationDesc\"])\n",
    "\n",
    "# create a choropleth map using a lookup transform\n",
    "# define a condition on the opacity encoding depending on the selection\n",
    "choropleth = (\n",
    "    alt.Chart(full)\n",
    "    .mark_geoshape()\n",
    "    .transform_lookup(\n",
    "        lookup=\"id\", from_=alt.LookupData(us_population, \"id\", [\"population\", \"state\"])\n",
    "    )\n",
    "    .encode(\n",
    "        color=\"population:Q\",\n",
    "        opacity=alt.condition(click_state, alt.value(1), alt.value(0.2)),\n",
    "        tooltip=[\"state:N\", \"population:Q\"],\n",
    "    )\n",
    "    .project(type=\"albersUsa\")\n",
    ")\n",
    "\n",
    "# create a bar chart with a similar condition on the opacity encoding.\n",
    "bars = (\n",
    "    alt.Chart(\n",
    "        us_population.nlargest(15, \"population\"), title=\"Top 15 states by population\"\n",
    "    )\n",
    "    .mark_bar()\n",
    "    .encode(\n",
    "        x=\"population\",\n",
    "        opacity=alt.condition(click_state, alt.value(1), alt.value(0.2)),\n",
    "        color=\"population\",\n",
    "        y=alt.Y(\"state\").sort(\"-x\"),\n",
    "    )\n",
    ")\n",
    "\n",
    "(choropleth & bars).add_params(click_state)"
   ]
  },
  {
   "cell_type": "code",
   "execution_count": null,
   "id": "c65b9112e5ee6779",
   "metadata": {
    "ExecuteTime": {
     "start_time": "2024-03-19T20:35:26.442511Z"
    },
    "collapsed": false,
    "jupyter": {
     "outputs_hidden": false
    }
   },
   "outputs": [],
   "source": [
    "full['geometry'] = full.geometry"
   ]
  },
  {
   "cell_type": "code",
   "execution_count": null,
   "id": "33cf32debf36ee44",
   "metadata": {
    "ExecuteTime": {
     "start_time": "2024-03-19T20:35:26.445472Z"
    },
    "collapsed": false,
    "jupyter": {
     "outputs_hidden": false
    }
   },
   "outputs": [],
   "source": [
    "ages = full['AgeGroup'].unique()\n",
    "ages = list(set(ages))\n",
    "ages"
   ]
  },
  {
   "cell_type": "code",
   "execution_count": null,
   "id": "b21ce5f36037525a",
   "metadata": {
    "ExecuteTime": {
     "start_time": "2024-03-19T20:35:26.447215Z"
    },
    "collapsed": false,
    "jupyter": {
     "outputs_hidden": false
    }
   },
   "outputs": [],
   "source": [
    "# List of all unique Measures\n",
    "measures = ages\n",
    "\n",
    "# Create drop-down, using the \"measures\" list\n",
    "input_dropdown = alt.binding_select(options=measures, name='Age Groups')\n",
    "\n",
    "# Creating a binding \"selection\" object in Vega\n",
    "# which is mapped filter the \"Measure\" field in the data\n",
    "selection = alt.selection_point(fields=['Age Groups'], bind=input_dropdown)\n",
    "\n",
    "state_fig = (\n",
    "    alt.Chart(full)   # Note I removed the .filter()\n",
    "    .mark_geoshape(strokeWidth=1, stroke=\"darkgreen\")\n",
    "    .encode(\n",
    "        shape=\"geometry:G\",\n",
    "        color=\"Value\",\n",
    "        tooltip=['LocationDesc', 'AgeGroup', \"Fatalities\"],\n",
    "    )\n",
    "    .transform_lookup(\n",
    "        lookup=\"geometry\", \n",
    "        from_=alt.LookupData(data=counties, key=\"id\"), \n",
    "        as_=\"geometry\"\n",
    "    )\n",
    "    .transform_filter(   # transform_filter() allows dynamic selection\n",
    "        selection  \n",
    "    )\n",
    "    .add_params(   # add_params() make \"selection\" variable available to chart\n",
    "        selection\n",
    "    )\n",
    "    .project(type=\"albersUsa\")\n",
    "    .properties(width=400)\n",
    ")\n",
    "state_fig"
   ]
  },
  {
   "cell_type": "code",
   "execution_count": null,
   "id": "d91a75cb1fa57b83",
   "metadata": {
    "ExecuteTime": {
     "start_time": "2024-03-19T20:35:26.448597Z"
    },
    "collapsed": false,
    "jupyter": {
     "outputs_hidden": false
    }
   },
   "outputs": [],
   "source": [
    "counties = alt.topo_feature(data.us_10m.url, 'state')"
   ]
  },
  {
   "cell_type": "code",
   "execution_count": null,
   "id": "5dae21348023e12e",
   "metadata": {
    "ExecuteTime": {
     "start_time": "2024-03-19T20:35:26.449877Z"
    },
    "collapsed": false,
    "jupyter": {
     "outputs_hidden": false
    }
   },
   "outputs": [],
   "source": [
    "import polars as pl\n",
    "alt.data_transformers.disable_max_rows()\n",
    "\n",
    "state = alt.topo_feature(data.us_10m.url, 'state')\n",
    "\n",
    "# List of all unique Measures\n",
    "measures = ages\n",
    "\n",
    "# Create drop-down, using the \"measures\" list\n",
    "input_dropdown = alt.binding_select(options=measures, name='Measure')\n",
    "\n",
    "# Creating a binding \"selection\" object in Vega\n",
    "# which is mapped filter the \"Measure\" field in the data\n",
    "selection = alt.selection_point(fields=['Measure'], bind=input_dropdown)\n",
    "\n",
    "state_fig = (\n",
    "    alt.Chart(full.filter(\"AgeGroup\")==\"Overall\")   # Note I removed the .filter()\n",
    "    .mark_geoshape(strokeWidth=1, stroke=\"darkgreen\")\n",
    "    .encode(\n",
    "        shape=\"geometry:G\",\n",
    "        color=\"Fatalities\",\n",
    "        tooltip=['LocationDesc', 'AgeGroup', \"Fatalities\"]\n",
    "    ).add_params(   # add_params() make \"selection\" variable available to chart\n",
    "        selection\n",
    "    )\n",
    "    .project(type=\"albersUsa\")\n",
    "    .properties(width=400)\n",
    ")\n",
    "state_fig"
   ]
  },
  {
   "cell_type": "code",
   "execution_count": null,
   "id": "e970eff11f130f2a",
   "metadata": {
    "ExecuteTime": {
     "start_time": "2024-03-19T20:35:26.451438Z"
    },
    "collapsed": false,
    "jupyter": {
     "outputs_hidden": false
    }
   },
   "outputs": [],
   "source": [
    "    ).transform_filter(   # transform_filter() allows dynamic selection\n",
    "        selection  \n",
    "    )\n",
    "\n",
    "\n",
    "state_fig = (\n",
    "    alt.Chart(full.filter(pl.col(\"Measure\")==\"Total Population\"))\n",
    "    .mark_geoshape(strokeWidth=1, stroke=\"darkgreen\")\n",
    "    .encode(\n",
    "        shape=\"geo:G\",\n",
    "        color=\"Value\",\n",
    "        tooltip=[\"County Name\", \"GEOID\", \"Measure\", \"Value\"],\n",
    "    )\n",
    "    .transform_lookup(\n",
    "        lookup=\"GEOID\", \n",
    "        from_=alt.LookupData(data=counties, key=\"id\"), \n",
    "        as_=\"geo\"\n",
    "    )\n",
    "    .project(type=\"albersUsa\")\n",
    "    .properties(width=400)\n",
    ")\n",
    "state_fig"
   ]
  },
  {
   "cell_type": "code",
   "execution_count": null,
   "id": "feac472382df283f",
   "metadata": {
    "ExecuteTime": {
     "end_time": "2024-03-19T20:40:41.104410Z",
     "start_time": "2024-03-19T20:40:40.988463Z"
    },
    "collapsed": false,
    "jupyter": {
     "outputs_hidden": false
    }
   },
   "outputs": [],
   "source": []
  },
  {
   "cell_type": "code",
   "execution_count": null,
   "id": "e99a52e10a6e97a7",
   "metadata": {
    "ExecuteTime": {
     "end_time": "2024-03-19T20:42:59.848324Z",
     "start_time": "2024-03-19T20:42:59.617002Z"
    },
    "collapsed": false,
    "jupyter": {
     "outputs_hidden": false
    }
   },
   "outputs": [],
   "source": [
    "import altair as alt\n",
    "from vega_datasets import data\n",
    "\n",
    "# Load the US state data\n",
    "states = alt.topo_feature(data.us_10m.url, 'states')\n",
    "\n",
    "# Create a dropdown selection\n",
    "category_dropdown = alt.binding_select(options=['Population', 'Unemployment Rate'])\n",
    "selection = alt.selection_single(fields=['category'], bind=category_dropdown, name='Select')\n",
    "\n",
    "# Define the base map\n",
    "base = alt.Chart(states).mark_geoshape(\n",
    "    fill='#EEE',\n",
    "    stroke='white'\n",
    ").properties(\n",
    "    width=500,\n",
    "    height=300\n",
    ").project('albersUsa')\n",
    "\n",
    "# Define the choropleth map\n",
    "choropleth = alt.Chart(states).mark_geoshape().encode(\n",
    "        color=alt.condition(\n",
    "            selection,\n",
    "            alt.Color('properties.category:N', scale=alt.Scale(scheme='blues')),\n",
    "            alt.value('lightgray')\n",
    "        ),\n",
    "        tooltip=[\n",
    "            alt.Tooltip('properties.name:N', title='State'),\n",
    "            alt.Tooltip('properties.category:Q', title='Category Value')\n",
    "        ]\n",
    "    ).transform_lookup(\n",
    "        lookup='id',\n",
    "        from_=alt.LookupData(data=states, key='id', fields=['category'])\n",
    "    ).add_params(\n",
    "        selection\n",
    "    ).properties(\n",
    "        title=\"US Chloropleth Map\"\n",
    "    )\n",
    "\n",
    "# Combine the base map and the choropleth map\n",
    "us_choropleth = base + choropleth\n",
    "\n",
    "# Show the map\n",
    "us_choropleth"
   ]
  },
  {
   "cell_type": "code",
   "execution_count": null,
   "id": "5adb628b7ac2651d",
   "metadata": {
    "ExecuteTime": {
     "end_time": "2024-03-20T17:05:50.663458Z",
     "start_time": "2024-03-20T17:05:50.648991Z"
    },
    "collapsed": false,
    "jupyter": {
     "outputs_hidden": false
    }
   },
   "outputs": [],
   "source": [
    "import pandas as pd\n",
    "pop_df = pd.read_csv('nst-est2019-01.csv')\n",
    "pop_df['state'] = list(map(lambda x: x.replace('.', ''), pop_df['state']))"
   ]
  },
  {
   "cell_type": "code",
   "execution_count": null,
   "id": "9f2929b1eea26565",
   "metadata": {
    "collapsed": false,
    "jupyter": {
     "outputs_hidden": false
    }
   },
   "outputs": [],
   "source": []
  }
 ],
 "metadata": {
  "kernelspec": {
   "display_name": "Python 3 (ipykernel)",
   "language": "python",
   "name": "python3"
  },
  "language_info": {
   "codemirror_mode": {
    "name": "ipython",
    "version": 3
   },
   "file_extension": ".py",
   "mimetype": "text/x-python",
   "name": "python",
   "nbconvert_exporter": "python",
   "pygments_lexer": "ipython3",
   "version": "3.12.2"
  }
 },
 "nbformat": 4,
 "nbformat_minor": 5
}
