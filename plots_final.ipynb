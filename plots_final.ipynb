{
 "cells": [
  {
   "cell_type": "markdown",
   "id": "638caeb7-01fa-491f-907d-f94f93ebe8e8",
   "metadata": {},
   "source": [
    "# Exploring Postmortem Patterns of Alcohol Consumption Nationally\n",
    "- Final Project Plots for DS4200 Information Presentation and Visualization\n",
    "- Northeastern University Spring 2024 Professor Xiaoyi Yang\n",
    "- Authors: Ansley Cooper ‘25 & Shannen Espinosa ‘25\n",
    "- Contact: cooper.ans@northeastern.edu & espinosa.s@northeastern.edu\n",
    "\n",
    "---\n",
    "\n",
    "Welcome to the \"raw data\" from our website: https://shannenespinosa.github.io/ds4200-final/\n",
    "\n",
    "Here, we are analyzing the Health.gov dataset on [Alcohol-Related Disease Impact](https://healthdata.gov/dataset/Alcohol-Related-Disease-Impact-ARDI-Application-Al/8i56-u98i/about_data) across the United States. It contains 30 columns and 62,505 rows of data. The rows are data reports between 2015 and 2019 across ages and sexes for deaths attributable to alcohol. It contains estimates of alcohol-related disease impacts across the United States, noting causes of death and years of potential life lost. Our analyses were inspired by the [CDC's Application on Alcohol-Related Disease Impact](https://nccd.cdc.gov/DPH_ARDI/default/default.aspx) and the [CDC's Data on Excessive Drinking](https://www.cdc.gov/alcohol/data-stats.htm).\n",
    "\n",
    "---\n",
    "\n",
    "## Table of Contents\n",
    "- Figure 1: Geospatial Maps (Interactive)\n",
    "  - 1A: Number of Alcohol Related Deaths per 1000 People by Age\n",
    "  - 1B: Number of Alcohol Related Deaths per 1000 People by Cause of Death\n",
    "- Figure 2: Heatmaps (Static)\n",
    "  - 2A: Number of Alcohol Related Deaths per 1000 People by Age\n",
    "  - 2B: Number of Alcohol Related Deaths per 1000 People by Cause of Death\n",
    "- Figure 3: Bar Charts (Static and Interactive)\n",
    "  - 3A: Fatality Frequencies of Causes of Death (Static)\n",
    "  - 3B: Fatality Frequencies of Causes of Death by State (Interactive)\n",
    "- Figure 4: Assessment of Fatalities by sex\n",
    "  - 4A: D3 representation of moralities by sex donut plot (Interactive)\n",
    "  - 4B: Follium geospatial representation of "
   ]
  },
  {
   "cell_type": "code",
   "execution_count": 1,
   "id": "initial_id",
   "metadata": {
    "ExecuteTime": {
     "end_time": "2024-04-08T02:32:23.120160Z",
     "start_time": "2024-04-08T02:32:22.589734Z"
    }
   },
   "outputs": [],
   "source": [
    "import pandas as pd\n",
    "import geopandas as gpd\n",
    "import altair as alt"
   ]
  },
  {
   "cell_type": "code",
   "execution_count": 2,
   "id": "d440ba1176488bbd",
   "metadata": {
    "ExecuteTime": {
     "end_time": "2024-04-08T02:32:23.371225Z",
     "start_time": "2024-04-08T02:32:23.120Z"
    },
    "collapsed": false,
    "jupyter": {
     "outputs_hidden": false
    }
   },
   "outputs": [],
   "source": [
    "alc_df = pd.read_csv('filtered_alc_mort.csv', index_col=0)\n",
    "state = gpd.read_file(\"states/ne_110m_admin_1_states_provinces/ne_110m_admin_1_states_provinces.shp\")\n",
    "pop_df = pd.read_csv('nst-est2019-01.csv')"
   ]
  },
  {
   "cell_type": "markdown",
   "id": "32fa334e82fd9265",
   "metadata": {
    "collapsed": false,
    "jupyter": {
     "outputs_hidden": false
    }
   },
   "source": [
    "# Figure 1: Geospatial Maps (Interactive)"
   ]
  },
  {
   "cell_type": "code",
   "execution_count": 3,
   "id": "12a4eacabfa7f68e",
   "metadata": {
    "ExecuteTime": {
     "end_time": "2024-04-08T02:32:23.466522Z",
     "start_time": "2024-04-08T02:32:23.371393Z"
    },
    "collapsed": false,
    "jupyter": {
     "outputs_hidden": false
    }
   },
   "outputs": [
    {
     "ename": "NameError",
     "evalue": "name 'data' is not defined",
     "output_type": "error",
     "traceback": [
      "\u001b[0;31m---------------------------------------------------------------------------\u001b[0m",
      "\u001b[0;31mNameError\u001b[0m                                 Traceback (most recent call last)",
      "Cell \u001b[0;32mIn[3], line 1\u001b[0m\n\u001b[0;32m----> 1\u001b[0m states \u001b[38;5;241m=\u001b[39m alt\u001b[38;5;241m.\u001b[39mtopo_feature(\u001b[43mdata\u001b[49m\u001b[38;5;241m.\u001b[39mus_10m\u001b[38;5;241m.\u001b[39murl, \u001b[38;5;124m'\u001b[39m\u001b[38;5;124mstates\u001b[39m\u001b[38;5;124m'\u001b[39m)\n\u001b[1;32m      3\u001b[0m base \u001b[38;5;241m=\u001b[39m alt\u001b[38;5;241m.\u001b[39mChart(states)\u001b[38;5;241m.\u001b[39mmark_geoshape(\n\u001b[1;32m      4\u001b[0m     fill\u001b[38;5;241m=\u001b[39m\u001b[38;5;124m'\u001b[39m\u001b[38;5;124m#EEE\u001b[39m\u001b[38;5;124m'\u001b[39m,\n\u001b[1;32m      5\u001b[0m     stroke\u001b[38;5;241m=\u001b[39m\u001b[38;5;124m'\u001b[39m\u001b[38;5;124mwhite\u001b[39m\u001b[38;5;124m'\u001b[39m\n\u001b[0;32m   (...)\u001b[0m\n\u001b[1;32m      8\u001b[0m     height\u001b[38;5;241m=\u001b[39m\u001b[38;5;241m300\u001b[39m\n\u001b[1;32m      9\u001b[0m )\u001b[38;5;241m.\u001b[39mproject(\u001b[38;5;124m'\u001b[39m\u001b[38;5;124malbersUsa\u001b[39m\u001b[38;5;124m'\u001b[39m)\n",
      "\u001b[0;31mNameError\u001b[0m: name 'data' is not defined"
     ]
    }
   ],
   "source": [
    "states = alt.topo_feature(data.us_10m.url, 'states')\n",
    "\n",
    "base = alt.Chart(states).mark_geoshape(\n",
    "    fill='#EEE',\n",
    "    stroke='white'\n",
    ").properties(\n",
    "    width=500,\n",
    "    height=300\n",
    ").project('albersUsa')"
   ]
  },
  {
   "cell_type": "markdown",
   "id": "97a56c6c-294d-454e-9b1e-b751c261a2c1",
   "metadata": {},
   "source": [
    "### Fig 1A: Number of Alcohol Related Deaths per 1000 People by Age"
   ]
  },
  {
   "cell_type": "code",
   "execution_count": null,
   "id": "cbad4dd09eedf799",
   "metadata": {
    "ExecuteTime": {
     "end_time": "2024-04-08T02:32:23.474303Z",
     "start_time": "2024-04-08T02:32:23.467964Z"
    },
    "collapsed": false,
    "jupyter": {
     "outputs_hidden": false
    }
   },
   "outputs": [],
   "source": [
    "alc_df[\"Fatalities\"] = alc_df[\"Data_Value\"].replace(\"-\" , 0).fillna(0).astype(int)\n",
    "alc_df_age = alc_df.groupby(by = ['LocationDesc', 'AgeGroup'], as_index= False).sum(\"Fatalities\")\n",
    "alc_df_age = alc_df_age.iloc[:, [0,1,4]]\n",
    "alc_df_age = alc_df_age[alc_df_age[\"AgeGroup\"] != \"Under 21\"]\n",
    "alc_df_age = alc_df_age[~alc_df_age[\"LocationDesc\"].isin([\"District of Columbia\", \"United States\"])]\n",
    "\n",
    "full = pd.merge(state, alc_df_age, left_on='woe_name', right_on='LocationDesc', how='outer')\n",
    "full.dropna(subset=['AgeGroup'], inplace=True)\n",
    "\n",
    "pop_df['state'] = pop_df['state'].str.replace('.', '')\n",
    "\n",
    "full = pd.merge(full, pop_df, left_on='woe_name', right_on='state', how='inner')\n",
    "full = full[full['AgeGroup'] != 'Under 21']\n",
    "full['per_capita'] = full['Fatalities'] / full['population '] * 1000"
   ]
  },
  {
   "cell_type": "code",
   "execution_count": null,
   "id": "4523516d647e3360",
   "metadata": {
    "ExecuteTime": {
     "start_time": "2024-04-08T02:32:23.469521Z"
    },
    "collapsed": false,
    "jupyter": {
     "outputs_hidden": false
    }
   },
   "outputs": [],
   "source": [
    "category_dropdown = alt.binding_radio(options=list(set(full['AgeGroup'])))\n",
    "selection = alt.selection_point(fields=['AgeGroup'], bind=category_dropdown, name='Select')\n",
    "\n",
    "alcohol = alt.Chart(full).mark_geoshape().encode(\n",
    "    color = 'per_capita:Q',\n",
    "    tooltip=[\n",
    "        alt.Tooltip('name:N', title='State'),\n",
    "        alt.Tooltip('per_capita:Q', title='Number of Alchohol Related Deaths per 1000 People')\n",
    "    ]\n",
    ").add_params(\n",
    "    selection\n",
    ").transform_filter(\n",
    "    selection\n",
    ").properties(\n",
    "    title=\"Figure 5.   Prevalence of Alcohol-Related Deaths by Age State-by-State\"\n",
    ")\n",
    "\n",
    "age_map = base + alcohol\n",
    "\n",
    "age_map.configure_title(anchor='start')"
   ]
  },
  {
   "cell_type": "markdown",
   "id": "3c9e75f1-3fbe-4c08-8957-2afb5a5822d3",
   "metadata": {},
   "source": [
    "### Fig 1B: Number of Alcohol Related Deaths per 1000 People by Cause of Death"
   ]
  },
  {
   "cell_type": "code",
   "execution_count": null,
   "id": "87b0ade770e2abb",
   "metadata": {
    "ExecuteTime": {
     "start_time": "2024-04-08T02:32:23.470556Z"
    },
    "collapsed": false,
    "jupyter": {
     "outputs_hidden": false
    }
   },
   "outputs": [],
   "source": [
    "alc_df_cause = alc_df.groupby(by=['LocationDesc', 'Cause_of_Death'], as_index=False).sum(\"Fatalities\")\n",
    "\n",
    "empty_data = [\n",
    "    \"Alcoholic myopathy\", \"Alcohol polyneuropathy\", \"Pancreatitis, chronic\",\n",
    "    \"Alcohol-induced chronic pancreatitis\", \"Infant death, preterm birth\", \n",
    "    \"Fetus and newborn affected by maternal use of alcohol\", \"Fetal alcohol syndrome\", \n",
    "    \"Gastroesophageal hemorrhage\", \"Air-space transport\", \n",
    "    \"Water transport\", \"Chronic hepatitis\", \"Infant death, low birth weight\", \n",
    "    \"Suicide by and exposure to alcohol\", \"Portal hypertension\", \n",
    "    \"Occupational and machine injuries\", \"Alcoholic gastritis\", \n",
    "    \"Infant death, small for gestational age\", \"Gallbladder disease\"\n",
    "]\n",
    "\n",
    "limited_data = [\n",
    "    \"Alcohol abuse\", \"Degeneration of nervous system due to alcohol\",\n",
    "    \"Pancreatitis, acute\", \"Unprovoked seizures, epilepsy, or seizure disorder\",\n",
    "    \"Alcohol cardiomyopathy\", \"Child maltreatment\", \"Pneumonia\",\n",
    "    \"Other road vehicle crashes\", \"Firearm injuries\", \"Esophageal varices\",\n",
    "    \"Alcoholic psychosis\", \"Hypothermia\", \"Alcohol-induced acute pancreatitis\",\n",
    "    \"Motor vehicle nontraffic crashes\", \"Aspiration\", \"Cancer, pancreatic\", \"Cancer, stomach\"\n",
    "]\n",
    "\n",
    "alc_df_cause = alc_df_cause[~alc_df_cause['Cause_of_Death'].isin(empty_data + limited_data)]\n",
    "\n",
    "full = pd.merge(state, alc_df_cause, left_on='woe_name', right_on='LocationDesc', how='outer')\n",
    "full.dropna(subset=['Cause_of_Death'], inplace=True)\n",
    "pop_df = pd.read_csv('nst-est2019-01.csv')\n",
    "pop_df['state'] = pop_df['state'].str.replace('.', '')\n",
    "full = pd.merge(full, pop_df, left_on='woe_name', right_on='state', how='inner')\n",
    "full['per_capita'] = full['Fatalities'] / full['population '] * 1000"
   ]
  },
  {
   "cell_type": "code",
   "execution_count": null,
   "id": "cc8efb15-40b0-4d17-8038-6bdf0054e097",
   "metadata": {
    "ExecuteTime": {
     "start_time": "2024-04-08T02:32:23.471932Z"
    }
   },
   "outputs": [],
   "source": [
    "category_dropdown = alt.binding_radio(options=list(set(full['Cause_of_Death'])))\n",
    "selection = alt.selection_point(fields=['Cause_of_Death'], bind=category_dropdown, name='Select')\n",
    "\n",
    "cod_map = alt.Chart(full).mark_geoshape().encode(\n",
    "    color='per_capita:Q',\n",
    "    tooltip=[\n",
    "        alt.Tooltip('name:N', title='State'),\n",
    "        alt.Tooltip('per_capita:Q', title='Number of Alcohol Related Deaths per 1000 People')\n",
    "    ]\n",
    ").add_selection(\n",
    "    selection\n",
    ").transform_filter(\n",
    "    selection\n",
    ").properties(\n",
    "    title=\"Figure 7.   Prevalence of Different Alcohol-Related Causes of Death State-by-State\"\n",
    ")\n",
    "\n",
    "death_map = base + cod_map\n",
    "\n",
    "death_map.configure_title(anchor='start')"
   ]
  },
  {
   "cell_type": "code",
   "execution_count": null,
   "id": "c2b2e6fa-0e79-4548-a7c4-d4f34d78e14e",
   "metadata": {
    "ExecuteTime": {
     "start_time": "2024-04-08T02:32:23.473256Z"
    }
   },
   "outputs": [],
   "source": [
    "age_map.save(\"plots_html/age_map.html\")\n",
    "death_map.save(\"plots_html/death_map.html\")"
   ]
  },
  {
   "cell_type": "markdown",
   "id": "f7b9d75c-a529-4d85-a2fc-59fe0c5fea86",
   "metadata": {},
   "source": [
    "# Figure 2: Heatmaps (Static)"
   ]
  },
  {
   "cell_type": "markdown",
   "id": "75ffc05f-a13b-46de-99dc-f60c26f629da",
   "metadata": {},
   "source": [
    "### Fig 2A: Number of Alcohol Related Deaths per 1000 People by Age"
   ]
  },
  {
   "cell_type": "code",
   "execution_count": null,
   "id": "bfcffc16-13b6-4cb7-8665-982b2c5efa49",
   "metadata": {
    "ExecuteTime": {
     "end_time": "2024-04-08T02:32:23.475285Z",
     "start_time": "2024-04-08T02:32:23.474541Z"
    }
   },
   "outputs": [],
   "source": [
    "alc_df_age = alc_df_age[alc_df_age[\"AgeGroup\"] != \"Overall\"]\n",
    "\n",
    "age_heatmap = alt.Chart(alc_df_age).mark_rect().encode(\n",
    "    x='LocationDesc:N',\n",
    "    y='AgeGroup:N',\n",
    "    color=alt.Color('Fatalities:Q', scale=alt.Scale(scheme='reds')),\n",
    "    tooltip=[\n",
    "        alt.Tooltip('LocationDesc:N', title='State'),\n",
    "        alt.Tooltip('AgeGroup:N', title='Age Group'),\n",
    "        alt.Tooltip('Fatalities:Q', title='Number of Alcohol Related Deaths')\n",
    "    ]\n",
    ").properties(\n",
    "    width=500,\n",
    "    height=300,\n",
    "    title=\"Figure 6.   Heatmap of Alcohol Related Deaths by Age Group and State\"\n",
    ").configure_title(anchor='start')\n",
    "\n",
    "age_heatmap"
   ]
  },
  {
   "cell_type": "markdown",
   "id": "0e247183-0437-407e-a21a-bb72aa117de9",
   "metadata": {},
   "source": [
    "### Fig 2B: Number of Alcohol Related Deaths per 1000 People by Cause of Death"
   ]
  },
  {
   "cell_type": "code",
   "execution_count": null,
   "id": "04313117-36ac-4567-b67c-c47bb3b1cba4",
   "metadata": {
    "ExecuteTime": {
     "start_time": "2024-04-08T02:32:23.475878Z"
    }
   },
   "outputs": [],
   "source": [
    "full = full[full['Cause_of_Death'] != 'Total for All Causes']\n",
    "\n",
    "death_heatmap = alt.Chart(full).mark_rect().encode(\n",
    "    x='name:N',\n",
    "    y='Cause_of_Death:N',\n",
    "    color=alt.Color('per_capita:Q', scale=alt.Scale(scheme='reds')),\n",
    "    tooltip=[\n",
    "        alt.Tooltip('name:N', title='State'),\n",
    "        alt.Tooltip('Cause_of_Death:N', title='Cause of Death'),\n",
    "        alt.Tooltip('per_capita:Q', title='Number of Alcohol Related Deaths per 1000 People')\n",
    "    ]\n",
    ").properties(\n",
    "    width=500,\n",
    "    height=300,\n",
    "    title=\"Figure 8.   Heatmap of Alcohol Related Deaths by Cause of Death\"\n",
    ").configure_title(anchor='start')\n",
    "\n",
    "death_heatmap"
   ]
  },
  {
   "cell_type": "code",
   "execution_count": null,
   "id": "d4a8076d-4320-4d87-97db-c2a229d529e5",
   "metadata": {
    "ExecuteTime": {
     "start_time": "2024-04-08T02:32:23.477252Z"
    }
   },
   "outputs": [],
   "source": [
    "age_heatmap.save(\"plots_html/age_heatmap.html\")\n",
    "death_heatmap.save(\"plots_html/death_heatmap.html\")"
   ]
  },
  {
   "cell_type": "markdown",
   "id": "ff17cb51-4da3-45db-8c22-d65fe2572d2b",
   "metadata": {},
   "source": [
    "# Figure 3: Bar Charts (Static and Interactive)"
   ]
  },
  {
   "cell_type": "markdown",
   "id": "2526a87d-b410-4576-a292-95420d9219fd",
   "metadata": {},
   "source": [
    "### Fig 3A: Fatality Frequencies of Causes of Death"
   ]
  },
  {
   "cell_type": "code",
   "execution_count": null,
   "id": "064f2960-156b-46e3-a3aa-8e7898e2a808",
   "metadata": {
    "ExecuteTime": {
     "start_time": "2024-04-08T02:32:23.478474Z"
    }
   },
   "outputs": [],
   "source": [
    "avg_cause_of_death_df = alc_df[['Cause_of_Death', 'Fatalities']]\n",
    "avg_cause_of_death_df = avg_cause_of_death_df.groupby(by = 'Cause_of_Death', as_index= False).sum('Fatalities')\n",
    "avg_cause_of_death_df = avg_cause_of_death_df[avg_cause_of_death_df['Cause_of_Death'] != 'Total for All Causes']\n",
    "\n",
    "static_bar = alt.Chart(avg_cause_of_death_df).mark_bar().encode(\n",
    "    x=alt.X('Cause_of_Death:N', sort='-y'),\n",
    "    y='Fatalities:Q'\n",
    ").properties(\n",
    "    title=\"Figure 3.   Total Nationwide Fatality Frequencies of Alcohol-Related Causes of Death\"\n",
    ").configure_title(anchor='start')\n",
    "\n",
    "static_bar"
   ]
  },
  {
   "cell_type": "markdown",
   "id": "ad7e647b-b208-4d66-b503-00b8fb02cae8",
   "metadata": {},
   "source": [
    "### Fig 3B: Fatality Frequencies of Causes of Death by State"
   ]
  },
  {
   "cell_type": "code",
   "execution_count": null,
   "id": "7e5a39d7-20bc-4637-bcaf-3fb8c0c5c181",
   "metadata": {
    "ExecuteTime": {
     "start_time": "2024-04-08T02:32:23.479635Z"
    }
   },
   "outputs": [],
   "source": [
    "avg_cause_of_death_df_st = alc_df[['Cause_of_Death', 'Fatalities', 'LocationDesc']]\n",
    "avg_cause_of_death_df_st = avg_cause_of_death_df_st.groupby(by = ['LocationDesc', 'Cause_of_Death'], as_index= False).sum('Fatalities')\n",
    "avg_cause_of_death_df_st = avg_cause_of_death_df_st[avg_cause_of_death_df_st['Cause_of_Death'] != 'Total for All Causes']\n",
    "\n",
    "category_dropdown = alt.binding_select(options= avg_cause_of_death_df_st['LocationDesc'].unique())\n",
    "fat_selection = alt.selection_point(fields=['LocationDesc'], bind=category_dropdown, name='Select')\n",
    "\n",
    "interactive_bar = alt.Chart(avg_cause_of_death_df_st).mark_bar().encode(\n",
    "    x=alt.X('Cause_of_Death:N', sort='-y'),\n",
    "    y='Fatalities:Q'\n",
    ").add_params(\n",
    "    fat_selection\n",
    ").transform_filter(\n",
    "    fat_selection\n",
    ").properties(\n",
    "    title=\"Figure 4.   State-based Fatality Frequencies of Alcohol-Related Causes of Death\"\n",
    ").configure_title(anchor='start')\n",
    "\n",
    "interactive_bar"
   ]
  },
  {
   "cell_type": "code",
   "execution_count": null,
   "id": "d05d3220-de1e-4dc6-94bc-6a72ea173299",
   "metadata": {
    "ExecuteTime": {
     "end_time": "2024-04-08T02:32:23.481476Z",
     "start_time": "2024-04-08T02:32:23.480513Z"
    }
   },
   "outputs": [],
   "source": [
    "static_bar.save(\"plots_html/static_bar.html\")\n",
    "interactive_bar.save(\"plots_html/interactive_bar.html\")"
   ]
  },
  {
   "cell_type": "markdown",
   "id": "87f21cf6-c848-4cf3-bcb5-d703b41b82ae",
   "metadata": {},
   "source": [
    "# Figure 4b"
   ]
  },
  {
   "cell_type": "code",
   "execution_count": 92,
   "id": "c15d113b8f882352",
   "metadata": {
    "ExecuteTime": {
     "start_time": "2024-04-08T02:32:23.481230Z"
    },
    "collapsed": false,
    "jupyter": {
     "outputs_hidden": false
    }
   },
   "outputs": [
    {
     "name": "stdout",
     "output_type": "stream",
     "text": [
      "           featurecla  scalerank adm1_code  diss_me iso_3166_2  \\\n",
      "0  Admin-1 scale rank          2  USA-3514     3514      US-MN   \n",
      "1  Admin-1 scale rank          2  USA-3515     3515      US-MT   \n",
      "2  Admin-1 scale rank          2  USA-3516     3516      US-ND   \n",
      "3  Admin-1 scale rank          2  USA-3518     3518      US-ID   \n",
      "4  Admin-1 scale rank          2  USA-3519     3519      US-WA   \n",
      "\n",
      "                                         wikipedia iso_a2  adm0_sr  \\\n",
      "0           http://en.wikipedia.org/wiki/Minnesota     US        1   \n",
      "1             http://en.wikipedia.org/wiki/Montana     US        1   \n",
      "2        http://en.wikipedia.org/wiki/North_Dakota     US        1   \n",
      "3               http://en.wikipedia.org/wiki/Idaho     US        1   \n",
      "4  http://en.wikipedia.org/wiki/Washington_(state)     US        6   \n",
      "\n",
      "           name  name_alt  ... FCLASS_BD FCLASS_UA FCLASS_TLC  \\\n",
      "0     Minnesota  MN|Minn.  ...      None      None       None   \n",
      "1       Montana  MT|Mont.  ...      None      None       None   \n",
      "2  North Dakota   ND|N.D.  ...      None      None       None   \n",
      "3         Idaho  ID|Idaho  ...      None      None       None   \n",
      "4    Washington  WA|Wash.  ...      None      None       None   \n",
      "\n",
      "                                            geometry  LocationDesc     Sex  \\\n",
      "0  POLYGON ((-89.95766 47.28691, -90.13175 47.292...     Minnesota  Female   \n",
      "1  POLYGON ((-116.04823 49.00037, -113.05950 49.0...       Montana  Female   \n",
      "2  POLYGON ((-97.22894 49.00089, -97.21414 48.902...  North Dakota  Female   \n",
      "3  POLYGON ((-116.04823 49.00037, -115.96780 47.9...         Idaho  Female   \n",
      "4  POLYGON ((-117.03143 48.99931, -117.02665 47.7...    Washington  Female   \n",
      "\n",
      "  Fatalities         state population   per_capita  \n",
      "0     4021.0     Minnesota   5522744.0    0.728080  \n",
      "1     1072.0       Montana   1040859.0    1.029919  \n",
      "2      498.0  North Dakota    754434.0    0.660098  \n",
      "3     1268.0         Idaho   1682380.0    0.753694  \n",
      "4     6408.0    Washington   7294771.0    0.878437  \n",
      "\n",
      "[5 rows x 128 columns]\n"
     ]
    }
   ],
   "source": [
    "alc_df[\"Fatalities\"] = alc_df[\"Data_Value\"].replace(\"-\" , 0).fillna(0).astype(int)\n",
    "\n",
    "alc_df = alc_df[~alc_df[\"LocationDesc\"].isin([\"District of Columbia\", \"United States\"])]\n",
    "\n",
    "\n",
    "\n",
    "alc_df['Data_Value'] = pd.to_numeric(alc_df['Data_Value'].replace('-', 0))\n",
    "alc_df1 = alc_df[[\"LocationDesc\", \"Data_Value\", \"Sex\"]]\n",
    "alc_df1.columns = ['LocationDesc', 'Fatalities', 'Sex']\n",
    "alc_df1 = alc_df1[alc_df1[\"Sex\"] != 'Overall']\n",
    "alc_df_sex = alc_df1.groupby(['LocationDesc', 'Sex'], as_index=False).sum()\n",
    "\n",
    "\n",
    "alc_df_sex = alc_df_sex[alc_df_sex['LocationDesc'] != 'Alaska']\n",
    "alc_df_sex = alc_df_sex[alc_df_sex['LocationDesc'] != 'Hawaii']\n",
    "\n",
    "pop_df['state'] = pop_df['state'].str.replace('.', '')\n",
    "\n",
    "full = pd.merge(alc_df_sex, pop_df, left_on='LocationDesc', right_on='state', how='inner')\n",
    "\n",
    "full['per_capita'] = full['Fatalities'] / full['population '] * 1000\n",
    "\n",
    "\n",
    "\n",
    "fem = full[full['Sex'] == 'Female'].copy()\n",
    "fem_geo = gpd.GeoDataFrame(pd.merge(state, fem, left_on='woe_name', right_on='LocationDesc', how='inner'))\n",
    "print(fem_geo.head())\n",
    "\n",
    "male = full[full['Sex'] == 'Male'].copy()\n",
    "male_geo = gpd.GeoDataFrame(pd.merge(state, male, left_on='woe_name', right_on='LocationDesc', how='inner'))\n"
   ]
  },
  {
   "cell_type": "code",
   "execution_count": 93,
   "id": "3309ab10-4037-42ab-b34a-0bbc6f919fb4",
   "metadata": {},
   "outputs": [
    {
     "data": {
      "image/png": "[encoded data removed]",
      "text/plain": [
       "<Figure size 640x480 with 2 Axes>"
      ]
     },
     "metadata": {},
     "output_type": "display_data"
    }
   ],
   "source": [
    "fem_geo.plot(column = 'per_capita', legend = True, cmap='Reds').set_title('Female Mortalities by State per 1,000 People')\n",
    "plt.savefig('viz/female_chloro.jpg')"
   ]
  },
  {
   "cell_type": "code",
   "execution_count": 94,
   "id": "5cf32dcc-7991-4ac3-a160-3870be6af669",
   "metadata": {},
   "outputs": [
    {
     "data": {
      "image/png": "[encoded data removed]",
      "text/plain": [
       "<Figure size 640x480 with 2 Axes>"
      ]
     },
     "metadata": {},
     "output_type": "display_data"
    }
   ],
   "source": [
    "male_geo.plot(column = 'per_capita', legend = True, cmap='Blues').set_title('Male Mortalities by State per 1,000 People')\n",
    "plt.savefig('viz/male_chloro.jpg')"
   ]
  },
  {
   "cell_type": "code",
   "execution_count": null,
   "id": "c4f349fd-f91e-4f4f-a03e-aece8a5c615b",
   "metadata": {},
   "outputs": [],
   "source": []
  }
 ],
 "metadata": {
  "kernelspec": {
   "display_name": "Python 3 (ipykernel)",
   "language": "python",
   "name": "python3"
  },
  "language_info": {
   "codemirror_mode": {
    "name": "ipython",
    "version": 3
   },
   "file_extension": ".py",
   "mimetype": "text/x-python",
   "name": "python",
   "nbconvert_exporter": "python",
   "pygments_lexer": "ipython3",
   "version": "3.11.7"
  }
 },
 "nbformat": 4,
 "nbformat_minor": 5
}
